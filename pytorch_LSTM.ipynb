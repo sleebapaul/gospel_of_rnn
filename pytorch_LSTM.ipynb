{
 "cells": [
  {
   "cell_type": "markdown",
   "metadata": {
    "colab_type": "text",
    "id": "XMTZWzJ3dOif"
   },
   "source": [
    "# Gospel of LSTMs\n",
    "\n",
    "- This notebook train, evaluate and generate Gospels of Bible. The code is originally forked from [Official Word Level Language Modelling example of PyTorch](https://github.com/pytorch/examples/tree/master/word_language_model)  and altered in accordance with the particular use case. \n",
    "\n",
    "- The cleaned Gospel data is available at [here](https://github.com/sleebapaul/gospel_of_rnn/tree/master/training_data). \n",
    "\n",
    "- Used PyTorch version is  0.4.0. \n",
    "\n",
    "- If you're a beginner to RNNs, you may find the comments really helpful. So I commented a lot in this notebook. \n",
    "\n",
    "- If you find a difficulty in reproducing the results locally using this Jupyter Notebook, well I would say that's expected. Especially, the data interaction part is needed to be rewritten and it is an additional effort. Because, this notebook is originally a Colab Notebook and architectured in favour of same.  So I recommend the reader to consider this one a local reference and go to [the original Colab notebook](https://colab.research.google.com/drive/1euakjbNiZgCfbmCWzT6pIZB2MYZbHjk-) for a better life!\n"
   ]
  },
  {
   "cell_type": "code",
   "execution_count": 1,
   "metadata": {
    "colab": {
     "base_uri": "https://localhost:8080/",
     "height": 360
    },
    "colab_type": "code",
    "id": "OxkTuROKdJ8f",
    "outputId": "15cb058e-49f1-43dc-c061-c07980d1f1d8"
   },
   "outputs": [
    {
     "name": "stdout",
     "output_type": "stream",
     "text": [
      "tcmalloc: large alloc 1073750016 bytes == 0x5c996000 @  0x7fb0414791c4 0x46d6a4 0x5fcbcc 0x4c494d 0x54f3c4 0x553aaf 0x54e4c8 0x54f4f6 0x553aaf 0x54efc1 0x54f24d 0x553aaf 0x54efc1 0x54f24d 0x553aaf 0x54efc1 0x54f24d 0x551ee0 0x54e4c8 0x54f4f6 0x553aaf 0x54efc1 0x54f24d 0x551ee0 0x54efc1 0x54f24d 0x551ee0 0x54e4c8 0x54f4f6 0x553aaf 0x54e4c8\n",
      "Collecting pydrive\n",
      "\u001b[?25l  Downloading https://files.pythonhosted.org/packages/52/e0/0e64788e5dd58ce2d6934549676243dc69d982f198524be9b99e9c2a4fd5/PyDrive-1.3.1.tar.gz (987kB)\n",
      "\u001b[K    100% |████████████████████████████████| 993kB 5.8MB/s \n",
      "\u001b[?25hRequirement already satisfied: google-api-python-client>=1.2 in /usr/local/lib/python3.6/dist-packages (from pydrive) (1.6.7)\n",
      "Requirement already satisfied: oauth2client>=4.0.0 in /usr/local/lib/python3.6/dist-packages (from pydrive) (4.1.2)\n",
      "Requirement already satisfied: PyYAML>=3.0 in /usr/local/lib/python3.6/dist-packages (from pydrive) (3.13)\n",
      "Requirement already satisfied: six<2dev,>=1.6.1 in /usr/local/lib/python3.6/dist-packages (from google-api-python-client>=1.2->pydrive) (1.11.0)\n",
      "Requirement already satisfied: uritemplate<4dev,>=3.0.0 in /usr/local/lib/python3.6/dist-packages (from google-api-python-client>=1.2->pydrive) (3.0.0)\n",
      "Requirement already satisfied: httplib2<1dev,>=0.9.2 in /usr/local/lib/python3.6/dist-packages (from google-api-python-client>=1.2->pydrive) (0.11.3)\n",
      "Requirement already satisfied: pyasn1>=0.1.7 in /usr/local/lib/python3.6/dist-packages (from oauth2client>=4.0.0->pydrive) (0.4.4)\n",
      "Requirement already satisfied: pyasn1-modules>=0.0.5 in /usr/local/lib/python3.6/dist-packages (from oauth2client>=4.0.0->pydrive) (0.2.2)\n",
      "Requirement already satisfied: rsa>=3.1.4 in /usr/local/lib/python3.6/dist-packages (from oauth2client>=4.0.0->pydrive) (3.4.2)\n",
      "Building wheels for collected packages: pydrive\n",
      "  Running setup.py bdist_wheel for pydrive ... \u001b[?25l-\b \b\\\b \bdone\n",
      "\u001b[?25h  Stored in directory: /root/.cache/pip/wheels/fa/d2/9a/d3b6b506c2da98289e5d417215ce34b696db856643bad779f4\n",
      "Successfully built pydrive\n",
      "Installing collected packages: pydrive\n",
      "Successfully installed pydrive-1.3.1\n"
     ]
    }
   ],
   "source": [
    "# Download and setup PyTorch\n",
    "\n",
    "from os import path\n",
    "from wheel.pep425tags import get_abbr_impl, get_impl_ver, get_abi_tag\n",
    "platform = '{}{}-{}'.format(get_abbr_impl(), get_impl_ver(), get_abi_tag())\n",
    "\n",
    "accelerator = 'cu80' if path.exists('/opt/bin/nvidia-smi') else 'cpu'\n",
    "\n",
    "!pip install -q http://download.pytorch.org/whl/{accelerator}/torch-0.4.0-{platform}-linux_x86_64.whl torchvision\n",
    "    \n",
    "!pip install pydrive"
   ]
  },
  {
   "cell_type": "code",
   "execution_count": 2,
   "metadata": {
    "colab": {
     "base_uri": "https://localhost:8080/",
     "height": 68
    },
    "colab_type": "code",
    "id": "SkI-Q5c_9kGG",
    "outputId": "848e8529-84a7-4b33-d9f4-b9e018720e95"
   },
   "outputs": [
    {
     "name": "stdout",
     "output_type": "stream",
     "text": [
      "PyTorch Version:  0.4.0\n",
      "Cuda availability:  True\n"
     ]
    },
    {
     "data": {
      "text/plain": [
       "<torch._C.Generator at 0x7f928cf03fb0>"
      ]
     },
     "execution_count": 2,
     "metadata": {
      "tags": []
     },
     "output_type": "execute_result"
    }
   ],
   "source": [
    "import torch\n",
    "\n",
    "print(\"PyTorch Version: \",torch.__version__)\n",
    "print(\"Cuda availability: \",torch.cuda.is_available())\n",
    "\n",
    "# for reproducability set the seed \n",
    "\n",
    "torch.manual_seed(1111)"
   ]
  },
  {
   "cell_type": "code",
   "execution_count": 0,
   "metadata": {
    "colab": {},
    "colab_type": "code",
    "id": "2zQKvkhn9tlX"
   },
   "outputs": [],
   "source": [
    "import math\n",
    "import os\n",
    "import random\n",
    "import re\n",
    "import time\n",
    "\n",
    "import matplotlib.pyplot as plt\n",
    "import numpy as np\n",
    "\n",
    "import seaborn as sns\n",
    "import torch.nn as nn\n",
    "from google.colab import files\n",
    "from torch.nn.utils import clip_grad_norm_\n",
    "\n",
    "%matplotlib inline "
   ]
  },
  {
   "cell_type": "code",
   "execution_count": 4,
   "metadata": {
    "colab": {
     "base_uri": "https://localhost:8080/",
     "height": 34
    },
    "colab_type": "code",
    "id": "v0riS4Nc9zst",
    "outputId": "67b7929f-cd1d-4f34-bbc6-894e3e324533"
   },
   "outputs": [
    {
     "name": "stdout",
     "output_type": "stream",
     "text": [
      "cuda\n"
     ]
    }
   ],
   "source": [
    "# Device configuration\n",
    "device = torch.device('cuda' if torch.cuda.is_available() else 'cpu')\n",
    "print(device)"
   ]
  },
  {
   "cell_type": "markdown",
   "metadata": {
    "colab_type": "text",
    "id": "gSxccmTziBIL"
   },
   "source": [
    "# Helper functions "
   ]
  },
  {
   "cell_type": "code",
   "execution_count": 0,
   "metadata": {
    "colab": {},
    "colab_type": "code",
    "id": "g-4s8n6W94tF"
   },
   "outputs": [],
   "source": [
    "def get_text_files(folder_name):\n",
    "    \"\"\"\n",
    "    Get text files from uploaded files\n",
    "    \"\"\"\n",
    "    text_files = []\n",
    "    for file in os.listdir(\".\"):\n",
    "        if file.endswith(\".txt\"):\n",
    "            text_files.append(file)\n",
    "    return sorted(text_files)\n",
    "\n",
    "\n",
    "def store_files(file_list):\n",
    "    \"\"\"\n",
    "    Read and store files in the file_list as strings \n",
    "    Returns a dictionary with keys as file names and values as their contents\n",
    "    \"\"\"\n",
    "    output = {}\n",
    "    for file in file_list:\n",
    "        with open(file, 'r') as f:\n",
    "            output[file] = f.read()\n",
    "    return output\n",
    "        \n",
    "\n",
    "def dictionary(training_data):\n",
    "    \"\"\"\n",
    "    Create word2idx and idx2word dictionaries \n",
    "    Returns two dictionaries\n",
    "    \"\"\"\n",
    "    word2idx = {}\n",
    "    idx2word = {}\n",
    "    words = training_data.split()\n",
    "    token = 0\n",
    "    for word in words: \n",
    "        if not word in word2idx:\n",
    "            word2idx[word] = token\n",
    "            idx2word[token] = word\n",
    "            token +=1\n",
    "    return word2idx, idx2word\n",
    "\n",
    "\n",
    "def tensor_generator(training_data, word2idx):\n",
    "    \"\"\"\n",
    "    Create a PyTorch LongTensor for the training data\n",
    "    Returns a 1D tensor with ids of words  \n",
    "    \"\"\"\n",
    "    words = training_data.split()\n",
    "    ids = torch.LongTensor(len(words))\n",
    "    \n",
    "    for i, word in enumerate(words):\n",
    "        ids[i] = word2idx[word]\n",
    "        \n",
    "    return ids\n",
    "\n",
    "        \n",
    "def batchify(data, bsz):\n",
    "    \"\"\"\n",
    "    Batch the data with size bsz\n",
    "    \"\"\"\n",
    "    # Work out how cleanly we can divide the dataset into bsz parts.\n",
    "    nbatch = data.size(0) // bsz\n",
    "    # Trim off any extra elements that wouldn't cleanly fit (remainders).\n",
    "    data = data.narrow(0, 0, nbatch * bsz)\n",
    "    # Evenly divide the data across the bsz batches.\n",
    "    data = data.view(bsz, -1).t().contiguous()\n",
    "    return data.to(device)\n",
    "\n",
    "\n",
    "def get_batch(source, i):\n",
    "    \"\"\"\n",
    "    Select seq_length long batches at once for training\n",
    "    Data and Targets will be differed in index by one\n",
    "    \"\"\"\n",
    "    seq_len = min(seq_length, len(source) - 1 - i)\n",
    "    data = source[i:i+seq_len]\n",
    "    target = source[i+1:i+1+seq_len].view(-1)\n",
    "    return data, target\n",
    "\n",
    "\n",
    "def repackage_hidden(h):\n",
    "    \"\"\"\n",
    "    Wraps hidden states in new Tensors, to detach them from their history.\n",
    "    For truncated backpropagation \n",
    "    \"\"\"\n",
    "    if isinstance(h, torch.Tensor):\n",
    "        return h.detach()\n",
    "    else:\n",
    "        return tuple(repackage_hidden(v) for v in h)\n",
    "\n",
    "\n",
    "class RNNModel(nn.Module):\n",
    "    \"\"\"\n",
    "    Container module with an encoder, a recurrent module, and a decoder.\n",
    "    PyTorch provides the facility to write custom models\n",
    "    \"\"\"\n",
    "\n",
    "    def __init__(self, ntoken, ninp, nhid, nlayers, dropout=0.5, tie_weights=False):\n",
    "        super(RNNModel, self).__init__()\n",
    "        self.drop = nn.Dropout(dropout)\n",
    "        self.encoder = nn.Embedding(ntoken, ninp)\n",
    "\n",
    "        self.LSTM = nn.LSTM(ninp, nhid, nlayers, dropout=dropout)\n",
    "        self.decoder = nn.Linear(nhid, ntoken)\n",
    "\n",
    "        self.init_weights()\n",
    "\n",
    "        self.nhid = nhid\n",
    "        self.nlayers = nlayers\n",
    "\n",
    "    def init_weights(self):\n",
    "        initrange = 0.1\n",
    "        self.encoder.weight.data.uniform_(-initrange, initrange)\n",
    "        self.decoder.bias.data.zero_()\n",
    "        self.decoder.weight.data.uniform_(-initrange, initrange)\n",
    "\n",
    "    def forward(self, input, hidden):\n",
    "        emb = self.drop(self.encoder(input))\n",
    "        output, hidden = self.LSTM(emb, hidden)\n",
    "        output = self.drop(output)\n",
    "        decoded = self.decoder(output.view(output.size(0)*output.size(1), output.size(2)))\n",
    "        return decoded.view(output.size(0), output.size(1), decoded.size(1)), hidden\n",
    "\n",
    "    def init_hidden(self, bsz):\n",
    "        weight = next(self.parameters())\n",
    "\n",
    "        return (weight.new_zeros(self.nlayers, bsz, self.nhid),\n",
    "                weight.new_zeros(self.nlayers, bsz, self.nhid))\n",
    "    \n",
    "\n",
    "def evaluate(data_source, eval_batch_size):\n",
    "    \"\"\"\n",
    "    Evaluates the performance of the trained model in input data source\n",
    "    \"\"\"\n",
    "    # Turn on evaluation mode which disables dropout.\n",
    "    model.eval()\n",
    "    total_loss = 0.\n",
    "    ntokens = vocab_size\n",
    "    hidden = model.init_hidden(eval_batch_size)\n",
    "    with torch.no_grad():\n",
    "        for i in range(0, data_source.size(0) - 1, seq_length):\n",
    "            data, targets = get_batch(data_source, i)\n",
    "            output, hidden = model(data, hidden)\n",
    "            output_flat = output.view(-1, ntokens)\n",
    "            total_loss += len(data) * criterion(output_flat, targets).item()\n",
    "            hidden = repackage_hidden(hidden)\n",
    "    return total_loss / len(data_source)\n",
    "\n",
    "\n",
    "def train():\n",
    "    \"\"\"\n",
    "    Training - Full Throttle :D \n",
    "    \"\"\"\n",
    "    # Turn on training mode which enables dropout.\n",
    "    \n",
    "    model.train()\n",
    "    total_loss = 0.\n",
    "    start_time = time.time()\n",
    "    ntokens = vocab_size\n",
    "    hidden = model.init_hidden(batch_size)\n",
    "    for batch, i in enumerate(range(0, train_data.size(0) - 1, seq_length)):\n",
    "        data, targets = get_batch(train_data, i)\n",
    "        \n",
    "        # Starting each batch, we detach the hidden state from how it was previously produced.\n",
    "        # If we didn't, the model would try backpropagating all the way to start of the dataset.\n",
    "        \n",
    "        hidden = repackage_hidden(hidden)\n",
    "        model.zero_grad()\n",
    "        output, hidden = model(data, hidden)\n",
    "        loss = criterion(output.view(-1, ntokens), targets)\n",
    "        loss.backward()\n",
    "\n",
    "        # `clip_grad_norm` helps prevent the exploding gradient problem in RNNs / LSTMs.\n",
    "        clip_grad_norm_(model.parameters(), 0.25)\n",
    "        for p in model.parameters():\n",
    "            p.data.add_(-learning_rate, p.grad.data)\n",
    "\n",
    "        total_loss += loss.item()\n",
    "\n",
    "        if batch % log_interval == 0 and batch > 0:\n",
    "            cur_loss = total_loss / log_interval\n",
    "            elapsed = time.time() - start_time\n",
    "            print('| epoch {:3d} | {:5d}/{:5d} batches | lr {:5.4f} | ms/batch {:5.2f} | '\n",
    "                    'loss {:5.2f} | ppl {:8.2f} |'.format(\n",
    "                epoch, batch, len(train_data) // seq_length, learning_rate,\n",
    "                elapsed * 1000 /log_interval, cur_loss, math.exp(cur_loss)))\n",
    "            total_loss = 0\n",
    "            start_time = time.time()\n",
    "            \n",
    "            \n",
    "def get_warmup_state(data_source):\n",
    "    \"\"\"\n",
    "    Starting hidden states as zeros might not deliver the context \n",
    "    So a warm up is on a desired primer text \n",
    "    Returns the hidden state for actual generation \n",
    "    \"\"\"\n",
    "    # Turn on evaluation mode which disables dropout.\n",
    "    model.eval()\n",
    "    ntokens = vocab_size\n",
    "    hidden = model.init_hidden(1)\n",
    "    with torch.no_grad():\n",
    "        for i in range(0, data_source.size(0) - 1, seq_length):\n",
    "            data, targets = get_batch(data_source, i)\n",
    "            hidden = repackage_hidden(hidden)\n",
    "            output, hidden = model(data, hidden)         \n",
    "    return hidden\n"
   ]
  },
  {
   "cell_type": "markdown",
   "metadata": {
    "colab_type": "text",
    "id": "DXPte_Pfh5M6"
   },
   "source": [
    "# Data handling "
   ]
  },
  {
   "cell_type": "code",
   "execution_count": 6,
   "metadata": {
    "colab": {
     "base_uri": "https://localhost:8080/",
     "height": 1276,
     "resources": {
      "http://localhost:8080/nbextensions/google.colab/files.js": {
       "data": "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",
       "headers": [
        [
         "content-type",
         "application/javascript"
        ]
       ],
       "ok": true,
       "status": 200,
       "status_text": ""
      }
     }
    },
    "colab_type": "code",
    "id": "Tlfe-cxK-BmO",
    "outputId": "6fefaffb-852b-457a-c99a-ed903c35b095"
   },
   "outputs": [
    {
     "name": "stdout",
     "output_type": "stream",
     "text": [
      "rm: cannot remove '*.txt': No such file or directory\n"
     ]
    },
    {
     "data": {
      "text/html": [
       "\n",
       "     <input type=\"file\" id=\"files-e339e63f-ab8d-4066-8509-e208cb6f7d0b\" name=\"files[]\" multiple disabled />\n",
       "     <output id=\"result-e339e63f-ab8d-4066-8509-e208cb6f7d0b\">\n",
       "      Upload widget is only available when the cell has been executed in the\n",
       "      current browser session. Please rerun this cell to enable.\n",
       "      </output>\n",
       "      <script src=\"/nbextensions/google.colab/files.js\"></script> "
      ],
      "text/plain": [
       "<IPython.core.display.HTML object>"
      ]
     },
     "metadata": {
      "tags": []
     },
     "output_type": "display_data"
    },
    {
     "name": "stdout",
     "output_type": "stream",
     "text": [
      "Saving john_asv.txt to john_asv.txt\n",
      "Saving john_bbe.txt to john_bbe.txt\n",
      "Saving john_dby.txt to john_dby.txt\n",
      "Saving john_kjv.txt to john_kjv.txt\n",
      "Saving john_wbt.txt to john_wbt.txt\n",
      "Saving john_ylt.txt to john_ylt.txt\n",
      "Saving luke_asv.txt to luke_asv.txt\n",
      "Saving luke_bbe.txt to luke_bbe.txt\n",
      "Saving luke_dby.txt to luke_dby.txt\n",
      "Saving luke_kjv.txt to luke_kjv.txt\n",
      "Saving luke_wbt.txt to luke_wbt.txt\n",
      "Saving luke_ylt.txt to luke_ylt.txt\n",
      "Saving mark_asv.txt to mark_asv.txt\n",
      "Saving mark_bbe.txt to mark_bbe.txt\n",
      "Saving mark_dby.txt to mark_dby.txt\n",
      "Saving mark_kjv.txt to mark_kjv.txt\n",
      "Saving mark_wbt.txt to mark_wbt.txt\n",
      "Saving mark_ylt.txt to mark_ylt.txt\n",
      "Saving matthew_asv.txt to matthew_asv.txt\n",
      "Saving matthew_bbe.txt to matthew_bbe.txt\n",
      "Saving matthew_dby.txt to matthew_dby.txt\n",
      "Saving matthew_kjv.txt to matthew_kjv.txt\n",
      "Saving matthew_wbt.txt to matthew_wbt.txt\n",
      "Saving matthew_ylt.txt to matthew_ylt.txt\n",
      "User uploaded file \"john_asv.txt\" with length 112922 bytes\n",
      "User uploaded file \"john_bbe.txt\" with length 116770 bytes\n",
      "User uploaded file \"john_dby.txt\" with length 112895 bytes\n",
      "User uploaded file \"john_kjv.txt\" with length 112287 bytes\n",
      "User uploaded file \"john_wbt.txt\" with length 111436 bytes\n",
      "User uploaded file \"john_ylt.txt\" with length 119408 bytes\n",
      "User uploaded file \"luke_asv.txt\" with length 152492 bytes\n",
      "User uploaded file \"luke_bbe.txt\" with length 155973 bytes\n",
      "User uploaded file \"luke_dby.txt\" with length 151995 bytes\n",
      "User uploaded file \"luke_kjv.txt\" with length 153228 bytes\n",
      "User uploaded file \"luke_wbt.txt\" with length 152164 bytes\n",
      "User uploaded file \"luke_ylt.txt\" with length 158139 bytes\n",
      "User uploaded file \"mark_asv.txt\" with length 89364 bytes\n",
      "User uploaded file \"mark_bbe.txt\" with length 91145 bytes\n",
      "User uploaded file \"mark_dby.txt\" with length 89983 bytes\n",
      "User uploaded file \"mark_kjv.txt\" with length 90092 bytes\n",
      "User uploaded file \"mark_wbt.txt\" with length 89534 bytes\n",
      "User uploaded file \"mark_ylt.txt\" with length 93369 bytes\n",
      "User uploaded file \"matthew_asv.txt\" with length 140585 bytes\n",
      "User uploaded file \"matthew_bbe.txt\" with length 143218 bytes\n",
      "User uploaded file \"matthew_dby.txt\" with length 140867 bytes\n",
      "User uploaded file \"matthew_kjv.txt\" with length 141711 bytes\n",
      "User uploaded file \"matthew_wbt.txt\" with length 140534 bytes\n",
      "User uploaded file \"matthew_ylt.txt\" with length 145176 bytes\n"
     ]
    }
   ],
   "source": [
    "#Once run this will allow you to manually select the path on local drive for file you wish to upload\n",
    "!rm *.txt\n",
    "uploaded = files.upload()\n",
    "for file in uploaded.keys():\n",
    "    print('User uploaded file \"{name}\" with length {length} bytes'.format(name=file, length=len(uploaded[file])))"
   ]
  },
  {
   "cell_type": "code",
   "execution_count": 7,
   "metadata": {
    "colab": {
     "base_uri": "https://localhost:8080/",
     "height": 88
    },
    "colab_type": "code",
    "id": "HoOuEuEf-BpH",
    "outputId": "642a215d-9ac9-4208-d460-615214aebf4d"
   },
   "outputs": [
    {
     "name": "stdout",
     "output_type": "stream",
     "text": [
      "rm: cannot remove 'generated_sample.txt': No such file or directory\n",
      "Files uploaded:  john_asv.txt, john_bbe.txt, john_dby.txt, john_kjv.txt, john_wbt.txt, john_ylt.txt, luke_asv.txt, luke_bbe.txt, luke_dby.txt, luke_kjv.txt, luke_wbt.txt, luke_ylt.txt, mark_asv.txt, mark_bbe.txt, mark_dby.txt, mark_kjv.txt, mark_wbt.txt, mark_ylt.txt, matthew_asv.txt, matthew_bbe.txt, matthew_dby.txt, matthew_kjv.txt, matthew_wbt.txt, matthew_ylt.txt\n",
      "Number of files:  24\n"
     ]
    }
   ],
   "source": [
    "! rm generated_sample.txt\n",
    "\n",
    "txt_files = get_text_files(\".\")\n",
    "print(\"Files uploaded: \", \", \".join(txt_files))\n",
    "print(\"Number of files: \", len(txt_files))\n",
    "\n",
    "corpora = store_files(txt_files)"
   ]
  },
  {
   "cell_type": "code",
   "execution_count": 8,
   "metadata": {
    "colab": {
     "base_uri": "https://localhost:8080/",
     "height": 88
    },
    "colab_type": "code",
    "id": "2bzt1UHI_BV_",
    "outputId": "c22e143d-4abf-451e-edc5-06718c0c7ee7"
   },
   "outputs": [
    {
     "name": "stdout",
     "output_type": "stream",
     "text": [
      "Training files (22): john_asv.txt, john_bbe.txt, john_dby.txt, john_kjv.txt, john_wbt.txt, john_ylt.txt, luke_asv.txt, luke_bbe.txt, luke_dby.txt, luke_kjv.txt, luke_wbt.txt, luke_ylt.txt, mark_bbe.txt, mark_dby.txt, mark_wbt.txt, mark_ylt.txt, matthew_asv.txt, matthew_bbe.txt, matthew_dby.txt, matthew_kjv.txt, matthew_wbt.txt, matthew_ylt.txt\n",
      "Validation file :  mark_asv.txt\n",
      "Testing files :  mark_kjv.txt\n"
     ]
    }
   ],
   "source": [
    "# Copy complete corpora to training\n",
    "training_files = list(corpora.keys())\n",
    "\n",
    "# Select a file for validation and remove it from training data\n",
    "val_file = random.choice(training_files)\n",
    "training_files.pop(training_files.index(val_file))\n",
    "\n",
    "# Select a file for test and remove it from training data\n",
    "test_file = random.choice(training_files)\n",
    "training_files.pop(training_files.index(test_file))\n",
    "\n",
    "print(\"Training files ({}): {}\".format(len(training_files), \", \".join(training_files)))\n",
    "print(\"Validation file : \", val_file)\n",
    "print(\"Testing files : \", test_file)"
   ]
  },
  {
   "cell_type": "code",
   "execution_count": 51,
   "metadata": {
    "colab": {
     "base_uri": "https://localhost:8080/",
     "height": 51
    },
    "colab_type": "code",
    "id": "GZUZmpsS-J3S",
    "outputId": "4688dd89-eeb6-4d08-88ef-cf31a462471a"
   },
   "outputs": [
    {
     "name": "stdout",
     "output_type": "stream",
     "text": [
      "Total number of words in entire corpus:  653611\n",
      "Vocabulary size:  6067\n"
     ]
    }
   ],
   "source": [
    "\n",
    "# Get the vocabulary by combining all books\n",
    "\n",
    "combined_corpus = \" \".join(list(corpora.values()))\n",
    "\n",
    "word2idx, idx2word = dictionary(combined_corpus)\n",
    "\n",
    "print(\"Total number of words in entire corpus: \", len(combined_corpus.split()))\n",
    "\n",
    "vocab_size = len(word2idx)\n",
    "\n",
    "print(\"Vocabulary size: \", vocab_size)\n",
    "\n",
    "del combined_corpus"
   ]
  },
  {
   "cell_type": "code",
   "execution_count": 10,
   "metadata": {
    "colab": {
     "base_uri": "https://localhost:8080/",
     "height": 51
    },
    "colab_type": "code",
    "id": "izB-7dgd-M4-",
    "outputId": "be775bdd-dbc6-4498-ece3-db4353073a0a"
   },
   "outputs": [
    {
     "name": "stdout",
     "output_type": "stream",
     "text": [
      "Index of Jesus:  120\n",
      "Word of index 120:  Jesus\n"
     ]
    }
   ],
   "source": [
    "print(\"Index of Jesus: \", word2idx[\"Jesus\"])\n",
    "print(\"Word of index {}:  {}\".format(word2idx[\"Jesus\"], idx2word[word2idx[\"Jesus\"]]))"
   ]
  },
  {
   "cell_type": "code",
   "execution_count": 0,
   "metadata": {
    "colab": {},
    "colab_type": "code",
    "id": "HmpO2RS-_29O"
   },
   "outputs": [],
   "source": [
    "# Hyper-parameters\n",
    "\n",
    "embed_size = 300\n",
    "hidden_size = 1024\n",
    "num_layers = 2\n",
    "num_epochs = 100\n",
    "batch_size = 30\n",
    "seq_length = 35\n",
    "learning_rate = 20.0\n",
    "dropout_value = 0.4\n",
    "log_interval = 100\n",
    "eval_batch_size = 10"
   ]
  },
  {
   "cell_type": "code",
   "execution_count": 0,
   "metadata": {
    "colab": {},
    "colab_type": "code",
    "id": "EybjowFuzfGI"
   },
   "outputs": [],
   "source": [
    "# Concatenate the training data into a single corpus by selecting corresponding files from corpora\n",
    "training_data = \"\"\n",
    "for file in training_files:\n",
    "    training_data += corpora[file] + \" \"\n",
    "training_data = training_data.rstrip()"
   ]
  },
  {
   "cell_type": "code",
   "execution_count": 0,
   "metadata": {
    "colab": {},
    "colab_type": "code",
    "id": "HtNKmNpb-BsP"
   },
   "outputs": [],
   "source": [
    "# Batchify every data set\n",
    "train_data = batchify(tensor_generator(training_data, word2idx), batch_size)\n",
    "val_data = batchify(tensor_generator(corpora[val_file], word2idx), eval_batch_size)\n",
    "test_data = batchify(tensor_generator(corpora[test_file],word2idx), eval_batch_size)"
   ]
  },
  {
   "cell_type": "code",
   "execution_count": 14,
   "metadata": {
    "colab": {
     "base_uri": "https://localhost:8080/",
     "height": 68
    },
    "colab_type": "code",
    "id": "z9VDliLVgs04",
    "outputId": "cf7b2846-f5f9-459f-e0f4-a67b88790c24"
   },
   "outputs": [
    {
     "name": "stdout",
     "output_type": "stream",
     "text": [
      "Shape of batchified training data:  torch.Size([20509, 30])\n",
      "Shape of batchified validation data:  torch.Size([1911, 10])\n",
      "Shape of batchified testing data:  torch.Size([1919, 10])\n"
     ]
    }
   ],
   "source": [
    "print(\"Shape of batchified training data: \", train_data.shape)\n",
    "print(\"Shape of batchified validation data: \", val_data.shape)\n",
    "print(\"Shape of batchified testing data: \", test_data.shape)"
   ]
  },
  {
   "cell_type": "markdown",
   "metadata": {
    "colab_type": "text",
    "id": "9Fuoq6YjiEtX"
   },
   "source": [
    "# Model definition and training"
   ]
  },
  {
   "cell_type": "code",
   "execution_count": 0,
   "metadata": {
    "colab": {},
    "colab_type": "code",
    "id": "PJ0qB6wuBSO3"
   },
   "outputs": [],
   "source": [
    "# Define model for training \n",
    "\n",
    "model = RNNModel(ntoken=vocab_size, ninp=embed_size, nhid=hidden_size, nlayers=num_layers, dropout=dropout_value).to(device)\n",
    "criterion = nn.CrossEntropyLoss()"
   ]
  },
  {
   "cell_type": "code",
   "execution_count": 81,
   "metadata": {
    "colab": {
     "base_uri": "https://localhost:8080/",
     "height": 9571
    },
    "colab_type": "code",
    "id": "zJxtqp9bClkC",
    "outputId": "1d6c8e9c-9d08-4853-e6c2-f2de24af4f42"
   },
   "outputs": [
    {
     "name": "stdout",
     "output_type": "stream",
     "text": [
      "| epoch   1 |   100/  562 batches | lr 20.0000 | ms/batch 117.56 | loss  6.61 | ppl   741.10 |\n",
      "| epoch   1 |   200/  562 batches | lr 20.0000 | ms/batch 113.70 | loss  5.09 | ppl   161.68 |\n",
      "| epoch   1 |   300/  562 batches | lr 20.0000 | ms/batch 113.86 | loss  4.68 | ppl   107.50 |\n",
      "| epoch   1 |   400/  562 batches | lr 20.0000 | ms/batch 113.94 | loss  4.37 | ppl    79.19 |\n",
      "| epoch   1 |   500/  562 batches | lr 20.0000 | ms/batch 113.93 | loss  4.14 | ppl    62.94 |\n",
      "--------------------------------------------------------------------------------------------------------------------------\n",
      "| end of epoch   1 | time: 90.22s | valid loss  4.01 | valid ppl    55.36 | training loss  3.97 | training ppl    53.17 |\n",
      "--------------------------------------------------------------------------------------------------------------------------\n",
      "| epoch   2 |   100/  562 batches | lr 20.0000 | ms/batch 115.20 | loss  3.96 | ppl    52.25 |\n",
      "| epoch   2 |   200/  562 batches | lr 20.0000 | ms/batch 114.50 | loss  3.83 | ppl    45.85 |\n",
      "| epoch   2 |   300/  562 batches | lr 20.0000 | ms/batch 114.83 | loss  3.77 | ppl    43.45 |\n",
      "| epoch   2 |   400/  562 batches | lr 20.0000 | ms/batch 114.79 | loss  3.63 | ppl    37.75 |\n",
      "| epoch   2 |   500/  562 batches | lr 20.0000 | ms/batch 114.47 | loss  3.51 | ppl    33.38 |\n",
      "--------------------------------------------------------------------------------------------------------------------------\n",
      "| end of epoch   2 | time: 90.36s | valid loss  3.40 | valid ppl    29.96 | training loss  3.30 | training ppl    27.16 |\n",
      "--------------------------------------------------------------------------------------------------------------------------\n",
      "| epoch   3 |   100/  562 batches | lr 20.0000 | ms/batch 115.96 | loss  3.43 | ppl    30.93 |\n",
      "| epoch   3 |   200/  562 batches | lr 20.0000 | ms/batch 114.69 | loss  3.33 | ppl    27.84 |\n",
      "| epoch   3 |   300/  562 batches | lr 20.0000 | ms/batch 114.68 | loss  3.32 | ppl    27.60 |\n",
      "| epoch   3 |   400/  562 batches | lr 20.0000 | ms/batch 114.69 | loss  3.20 | ppl    24.45 |\n",
      "| epoch   3 |   500/  562 batches | lr 20.0000 | ms/batch 114.73 | loss  3.09 | ppl    21.89 |\n",
      "--------------------------------------------------------------------------------------------------------------------------\n",
      "| end of epoch   3 | time: 90.51s | valid loss  2.91 | valid ppl    18.42 | training loss  2.81 | training ppl    16.56 |\n",
      "--------------------------------------------------------------------------------------------------------------------------\n",
      "| epoch   4 |   100/  562 batches | lr 20.0000 | ms/batch 115.89 | loss  3.03 | ppl    20.71 |\n",
      "| epoch   4 |   200/  562 batches | lr 20.0000 | ms/batch 114.74 | loss  2.95 | ppl    19.09 |\n",
      "| epoch   4 |   300/  562 batches | lr 20.0000 | ms/batch 114.85 | loss  2.95 | ppl    19.17 |\n",
      "| epoch   4 |   400/  562 batches | lr 20.0000 | ms/batch 114.94 | loss  2.84 | ppl    17.06 |\n",
      "| epoch   4 |   500/  562 batches | lr 20.0000 | ms/batch 114.80 | loss  2.74 | ppl    15.44 |\n",
      "--------------------------------------------------------------------------------------------------------------------------\n",
      "| end of epoch   4 | time: 90.54s | valid loss  2.48 | valid ppl    11.97 | training loss  2.37 | training ppl    10.64 |\n",
      "--------------------------------------------------------------------------------------------------------------------------\n",
      "| epoch   5 |   100/  562 batches | lr 20.0000 | ms/batch 116.02 | loss  2.68 | ppl    14.59 |\n",
      "| epoch   5 |   200/  562 batches | lr 20.0000 | ms/batch 114.87 | loss  2.62 | ppl    13.67 |\n",
      "| epoch   5 |   300/  562 batches | lr 20.0000 | ms/batch 114.95 | loss  2.63 | ppl    13.87 |\n",
      "| epoch   5 |   400/  562 batches | lr 20.0000 | ms/batch 114.79 | loss  2.53 | ppl    12.52 |\n",
      "| epoch   5 |   500/  562 batches | lr 20.0000 | ms/batch 114.69 | loss  2.42 | ppl    11.28 |\n",
      "--------------------------------------------------------------------------------------------------------------------------\n",
      "| end of epoch   5 | time: 90.56s | valid loss  2.11 | valid ppl     8.26 | training loss  2.01 | training ppl     7.45 |\n",
      "--------------------------------------------------------------------------------------------------------------------------\n",
      "| epoch   6 |   100/  562 batches | lr 20.0000 | ms/batch 115.68 | loss  2.38 | ppl    10.81 |\n",
      "| epoch   6 |   200/  562 batches | lr 20.0000 | ms/batch 114.95 | loss  2.34 | ppl    10.36 |\n",
      "| epoch   6 |   300/  562 batches | lr 20.0000 | ms/batch 115.10 | loss  2.36 | ppl    10.57 |\n",
      "| epoch   6 |   400/  562 batches | lr 20.0000 | ms/batch 115.26 | loss  2.26 | ppl     9.60 |\n",
      "| epoch   6 |   500/  562 batches | lr 20.0000 | ms/batch 115.26 | loss  2.17 | ppl     8.79 |\n",
      "--------------------------------------------------------------------------------------------------------------------------\n",
      "| end of epoch   6 | time: 90.69s | valid loss  1.79 | valid ppl     5.96 | training loss  1.71 | training ppl     5.52 |\n",
      "--------------------------------------------------------------------------------------------------------------------------\n",
      "| epoch   7 |   100/  562 batches | lr 20.0000 | ms/batch 115.82 | loss  2.14 | ppl     8.52 |\n",
      "| epoch   7 |   200/  562 batches | lr 20.0000 | ms/batch 114.54 | loss  2.11 | ppl     8.22 |\n",
      "| epoch   7 |   300/  562 batches | lr 20.0000 | ms/batch 114.59 | loss  2.14 | ppl     8.52 |\n",
      "| epoch   7 |   400/  562 batches | lr 20.0000 | ms/batch 114.36 | loss  2.05 | ppl     7.76 |\n",
      "| epoch   7 |   500/  562 batches | lr 20.0000 | ms/batch 114.63 | loss  1.97 | ppl     7.18 |\n",
      "--------------------------------------------------------------------------------------------------------------------------\n",
      "| end of epoch   7 | time: 90.39s | valid loss  1.58 | valid ppl     4.88 | training loss  1.48 | training ppl     4.38 |\n",
      "--------------------------------------------------------------------------------------------------------------------------\n",
      "| epoch   8 |   100/  562 batches | lr 20.0000 | ms/batch 116.30 | loss  1.94 | ppl     6.96 |\n",
      "| epoch   8 |   200/  562 batches | lr 20.0000 | ms/batch 115.08 | loss  1.92 | ppl     6.80 |\n",
      "| epoch   8 |   300/  562 batches | lr 20.0000 | ms/batch 115.08 | loss  1.96 | ppl     7.07 |\n",
      "| epoch   8 |   400/  562 batches | lr 20.0000 | ms/batch 115.05 | loss  1.88 | ppl     6.53 |\n",
      "| epoch   8 |   500/  562 batches | lr 20.0000 | ms/batch 115.06 | loss  1.81 | ppl     6.08 |\n",
      "--------------------------------------------------------------------------------------------------------------------------\n",
      "| end of epoch   8 | time: 90.67s | valid loss  1.38 | valid ppl     3.98 | training loss  1.29 | training ppl     3.64 |\n",
      "--------------------------------------------------------------------------------------------------------------------------\n",
      "| epoch   9 |   100/  562 batches | lr 20.0000 | ms/batch 116.15 | loss  1.78 | ppl     5.92 |\n",
      "| epoch   9 |   200/  562 batches | lr 20.0000 | ms/batch 115.19 | loss  1.76 | ppl     5.83 |\n",
      "| epoch   9 |   300/  562 batches | lr 20.0000 | ms/batch 114.91 | loss  1.81 | ppl     6.09 |\n",
      "| epoch   9 |   400/  562 batches | lr 20.0000 | ms/batch 114.67 | loss  1.73 | ppl     5.63 |\n",
      "| epoch   9 |   500/  562 batches | lr 20.0000 | ms/batch 115.19 | loss  1.67 | ppl     5.29 |\n",
      "--------------------------------------------------------------------------------------------------------------------------\n",
      "| end of epoch   9 | time: 91.41s | valid loss  1.24 | valid ppl     3.46 | training loss  1.14 | training ppl     3.14 |\n",
      "--------------------------------------------------------------------------------------------------------------------------\n",
      "| epoch  10 |   100/  562 batches | lr 20.0000 | ms/batch 118.13 | loss  1.65 | ppl     5.18 |\n",
      "| epoch  10 |   200/  562 batches | lr 20.0000 | ms/batch 117.02 | loss  1.64 | ppl     5.16 |\n",
      "| epoch  10 |   300/  562 batches | lr 20.0000 | ms/batch 116.91 | loss  1.69 | ppl     5.40 |\n",
      "| epoch  10 |   400/  562 batches | lr 20.0000 | ms/batch 116.96 | loss  1.62 | ppl     5.03 |\n",
      "| epoch  10 |   500/  562 batches | lr 20.0000 | ms/batch 116.84 | loss  1.56 | ppl     4.77 |\n",
      "--------------------------------------------------------------------------------------------------------------------------\n",
      "| end of epoch  10 | time: 92.61s | valid loss  1.12 | valid ppl     3.08 | training loss  1.03 | training ppl     2.80 |\n",
      "--------------------------------------------------------------------------------------------------------------------------\n",
      "| epoch  11 |   100/  562 batches | lr 20.0000 | ms/batch 117.66 | loss  1.54 | ppl     4.66 |\n",
      "| epoch  11 |   200/  562 batches | lr 20.0000 | ms/batch 116.59 | loss  1.53 | ppl     4.63 |\n",
      "| epoch  11 |   300/  562 batches | lr 20.0000 | ms/batch 116.24 | loss  1.59 | ppl     4.89 |\n",
      "| epoch  11 |   400/  562 batches | lr 20.0000 | ms/batch 116.56 | loss  1.52 | ppl     4.56 |\n",
      "| epoch  11 |   500/  562 batches | lr 20.0000 | ms/batch 116.07 | loss  1.47 | ppl     4.34 |\n",
      "--------------------------------------------------------------------------------------------------------------------------\n",
      "| end of epoch  11 | time: 92.23s | valid loss  1.03 | valid ppl     2.80 | training loss  0.93 | training ppl     2.53 |\n",
      "--------------------------------------------------------------------------------------------------------------------------\n",
      "| epoch  12 |   100/  562 batches | lr 20.0000 | ms/batch 117.34 | loss  1.45 | ppl     4.26 |\n",
      "| epoch  12 |   200/  562 batches | lr 20.0000 | ms/batch 116.52 | loss  1.45 | ppl     4.26 |\n",
      "| epoch  12 |   300/  562 batches | lr 20.0000 | ms/batch 116.32 | loss  1.50 | ppl     4.50 |\n",
      "| epoch  12 |   400/  562 batches | lr 20.0000 | ms/batch 115.82 | loss  1.44 | ppl     4.22 |\n",
      "| epoch  12 |   500/  562 batches | lr 20.0000 | ms/batch 115.87 | loss  1.39 | ppl     4.00 |\n",
      "--------------------------------------------------------------------------------------------------------------------------\n",
      "| end of epoch  12 | time: 92.10s | valid loss  0.95 | valid ppl     2.59 | training loss  0.85 | training ppl     2.33 |\n",
      "--------------------------------------------------------------------------------------------------------------------------\n",
      "| epoch  13 |   100/  562 batches | lr 20.0000 | ms/batch 117.03 | loss  1.37 | ppl     3.95 |\n",
      "| epoch  13 |   200/  562 batches | lr 20.0000 | ms/batch 115.81 | loss  1.37 | ppl     3.94 |\n",
      "| epoch  13 |   300/  562 batches | lr 20.0000 | ms/batch 115.89 | loss  1.42 | ppl     4.15 |\n",
      "| epoch  13 |   400/  562 batches | lr 20.0000 | ms/batch 115.99 | loss  1.36 | ppl     3.91 |\n",
      "| epoch  13 |   500/  562 batches | lr 20.0000 | ms/batch 115.90 | loss  1.32 | ppl     3.75 |\n",
      "--------------------------------------------------------------------------------------------------------------------------\n",
      "| end of epoch  13 | time: 91.34s | valid loss  0.89 | valid ppl     2.43 | training loss  0.79 | training ppl     2.20 |\n",
      "--------------------------------------------------------------------------------------------------------------------------\n",
      "| epoch  14 |   100/  562 batches | lr 20.0000 | ms/batch 115.66 | loss  1.31 | ppl     3.71 |\n",
      "| epoch  14 |   200/  562 batches | lr 20.0000 | ms/batch 114.39 | loss  1.31 | ppl     3.72 |\n",
      "| epoch  14 |   300/  562 batches | lr 20.0000 | ms/batch 114.52 | loss  1.37 | ppl     3.92 |\n",
      "| epoch  14 |   400/  562 batches | lr 20.0000 | ms/batch 114.44 | loss  1.31 | ppl     3.72 |\n",
      "| epoch  14 |   500/  562 batches | lr 20.0000 | ms/batch 114.29 | loss  1.27 | ppl     3.55 |\n",
      "--------------------------------------------------------------------------------------------------------------------------\n",
      "| end of epoch  14 | time: 90.41s | valid loss  0.85 | valid ppl     2.35 | training loss  0.73 | training ppl     2.07 |\n",
      "--------------------------------------------------------------------------------------------------------------------------\n",
      "| epoch  15 |   100/  562 batches | lr 20.0000 | ms/batch 115.80 | loss  1.25 | ppl     3.50 |\n",
      "| epoch  15 |   200/  562 batches | lr 20.0000 | ms/batch 114.74 | loss  1.26 | ppl     3.52 |\n",
      "| epoch  15 |   300/  562 batches | lr 20.0000 | ms/batch 114.72 | loss  1.32 | ppl     3.73 |\n",
      "| epoch  15 |   400/  562 batches | lr 20.0000 | ms/batch 114.74 | loss  1.26 | ppl     3.54 |\n",
      "| epoch  15 |   500/  562 batches | lr 20.0000 | ms/batch 114.75 | loss  1.22 | ppl     3.38 |\n",
      "--------------------------------------------------------------------------------------------------------------------------\n",
      "| end of epoch  15 | time: 90.59s | valid loss  0.81 | valid ppl     2.26 | training loss  0.67 | training ppl     1.96 |\n",
      "--------------------------------------------------------------------------------------------------------------------------\n",
      "| epoch  16 |   100/  562 batches | lr 20.0000 | ms/batch 116.20 | loss  1.21 | ppl     3.35 |\n",
      "| epoch  16 |   200/  562 batches | lr 20.0000 | ms/batch 114.82 | loss  1.22 | ppl     3.37 |\n",
      "| epoch  16 |   300/  562 batches | lr 20.0000 | ms/batch 114.70 | loss  1.27 | ppl     3.57 |\n",
      "| epoch  16 |   400/  562 batches | lr 20.0000 | ms/batch 115.08 | loss  1.22 | ppl     3.39 |\n",
      "| epoch  16 |   500/  562 batches | lr 20.0000 | ms/batch 115.13 | loss  1.18 | ppl     3.24 |\n",
      "--------------------------------------------------------------------------------------------------------------------------\n",
      "| end of epoch  16 | time: 90.75s | valid loss  0.79 | valid ppl     2.20 | training loss  0.64 | training ppl     1.90 |\n",
      "--------------------------------------------------------------------------------------------------------------------------\n",
      "| epoch  17 |   100/  562 batches | lr 20.0000 | ms/batch 115.93 | loss  1.17 | ppl     3.23 |\n",
      "| epoch  17 |   200/  562 batches | lr 20.0000 | ms/batch 114.57 | loss  1.18 | ppl     3.27 |\n",
      "| epoch  17 |   300/  562 batches | lr 20.0000 | ms/batch 114.55 | loss  1.23 | ppl     3.42 |\n",
      "| epoch  17 |   400/  562 batches | lr 20.0000 | ms/batch 114.63 | loss  1.19 | ppl     3.27 |\n",
      "| epoch  17 |   500/  562 batches | lr 20.0000 | ms/batch 114.80 | loss  1.15 | ppl     3.16 |\n",
      "--------------------------------------------------------------------------------------------------------------------------\n",
      "| end of epoch  17 | time: 90.54s | valid loss  0.76 | valid ppl     2.14 | training loss  0.61 | training ppl     1.85 |\n",
      "--------------------------------------------------------------------------------------------------------------------------\n",
      "| epoch  18 |   100/  562 batches | lr 20.0000 | ms/batch 116.10 | loss  1.14 | ppl     3.13 |\n",
      "| epoch  18 |   200/  562 batches | lr 20.0000 | ms/batch 115.07 | loss  1.14 | ppl     3.13 |\n",
      "| epoch  18 |   300/  562 batches | lr 20.0000 | ms/batch 114.94 | loss  1.20 | ppl     3.32 |\n",
      "| epoch  18 |   400/  562 batches | lr 20.0000 | ms/batch 115.11 | loss  1.15 | ppl     3.17 |\n",
      "| epoch  18 |   500/  562 batches | lr 20.0000 | ms/batch 114.79 | loss  1.11 | ppl     3.05 |\n",
      "--------------------------------------------------------------------------------------------------------------------------\n",
      "| end of epoch  18 | time: 90.69s | valid loss  0.74 | valid ppl     2.09 | training loss  0.57 | training ppl     1.78 |\n",
      "--------------------------------------------------------------------------------------------------------------------------\n",
      "| epoch  19 |   100/  562 batches | lr 20.0000 | ms/batch 116.10 | loss  1.11 | ppl     3.03 |\n",
      "| epoch  19 |   200/  562 batches | lr 20.0000 | ms/batch 115.02 | loss  1.12 | ppl     3.06 |\n",
      "| epoch  19 |   300/  562 batches | lr 20.0000 | ms/batch 115.02 | loss  1.17 | ppl     3.21 |\n",
      "| epoch  19 |   400/  562 batches | lr 20.0000 | ms/batch 114.86 | loss  1.13 | ppl     3.08 |\n",
      "| epoch  19 |   500/  562 batches | lr 20.0000 | ms/batch 114.81 | loss  1.09 | ppl     2.97 |\n",
      "--------------------------------------------------------------------------------------------------------------------------\n",
      "| end of epoch  19 | time: 90.61s | valid loss  0.71 | valid ppl     2.03 | training loss  0.55 | training ppl     1.73 |\n",
      "--------------------------------------------------------------------------------------------------------------------------\n",
      "| epoch  20 |   100/  562 batches | lr 20.0000 | ms/batch 116.25 | loss  1.09 | ppl     2.98 |\n",
      "| epoch  20 |   200/  562 batches | lr 20.0000 | ms/batch 114.72 | loss  1.10 | ppl     2.99 |\n",
      "| epoch  20 |   300/  562 batches | lr 20.0000 | ms/batch 114.84 | loss  1.14 | ppl     3.13 |\n",
      "| epoch  20 |   400/  562 batches | lr 20.0000 | ms/batch 115.09 | loss  1.11 | ppl     3.02 |\n",
      "| epoch  20 |   500/  562 batches | lr 20.0000 | ms/batch 114.99 | loss  1.08 | ppl     2.93 |\n",
      "--------------------------------------------------------------------------------------------------------------------------\n",
      "| end of epoch  20 | time: 90.66s | valid loss  0.69 | valid ppl     2.00 | training loss  0.53 | training ppl     1.71 |\n",
      "--------------------------------------------------------------------------------------------------------------------------\n",
      "| epoch  21 |   100/  562 batches | lr 20.0000 | ms/batch 116.06 | loss  1.07 | ppl     2.91 |\n",
      "| epoch  21 |   200/  562 batches | lr 20.0000 | ms/batch 114.78 | loss  1.07 | ppl     2.92 |\n",
      "| epoch  21 |   300/  562 batches | lr 20.0000 | ms/batch 114.76 | loss  1.12 | ppl     3.07 |\n",
      "| epoch  21 |   400/  562 batches | lr 20.0000 | ms/batch 114.80 | loss  1.08 | ppl     2.95 |\n",
      "| epoch  21 |   500/  562 batches | lr 20.0000 | ms/batch 114.83 | loss  1.05 | ppl     2.86 |\n",
      "--------------------------------------------------------------------------------------------------------------------------\n",
      "| end of epoch  21 | time: 90.54s | valid loss  0.69 | valid ppl     1.99 | training loss  0.51 | training ppl     1.66 |\n",
      "--------------------------------------------------------------------------------------------------------------------------\n",
      "| epoch  22 |   100/  562 batches | lr 20.0000 | ms/batch 116.15 | loss  1.04 | ppl     2.84 |\n",
      "| epoch  22 |   200/  562 batches | lr 20.0000 | ms/batch 114.98 | loss  1.06 | ppl     2.88 |\n",
      "| epoch  22 |   300/  562 batches | lr 20.0000 | ms/batch 114.95 | loss  1.11 | ppl     3.04 |\n",
      "| epoch  22 |   400/  562 batches | lr 20.0000 | ms/batch 115.06 | loss  1.07 | ppl     2.91 |\n",
      "| epoch  22 |   500/  562 batches | lr 20.0000 | ms/batch 115.13 | loss  1.03 | ppl     2.81 |\n",
      "--------------------------------------------------------------------------------------------------------------------------\n",
      "| end of epoch  22 | time: 90.69s | valid loss  0.67 | valid ppl     1.96 | training loss  0.49 | training ppl     1.64 |\n",
      "--------------------------------------------------------------------------------------------------------------------------\n",
      "| epoch  23 |   100/  562 batches | lr 20.0000 | ms/batch 115.65 | loss  1.03 | ppl     2.80 |\n",
      "| epoch  23 |   200/  562 batches | lr 20.0000 | ms/batch 114.31 | loss  1.04 | ppl     2.84 |\n",
      "| epoch  23 |   300/  562 batches | lr 20.0000 | ms/batch 114.69 | loss  1.09 | ppl     2.97 |\n",
      "| epoch  23 |   400/  562 batches | lr 20.0000 | ms/batch 114.41 | loss  1.04 | ppl     2.84 |\n",
      "| epoch  23 |   500/  562 batches | lr 20.0000 | ms/batch 114.32 | loss  1.02 | ppl     2.76 |\n",
      "--------------------------------------------------------------------------------------------------------------------------\n",
      "| end of epoch  23 | time: 90.34s | valid loss  0.66 | valid ppl     1.93 | training loss  0.47 | training ppl     1.61 |\n",
      "--------------------------------------------------------------------------------------------------------------------------\n",
      "| epoch  24 |   100/  562 batches | lr 20.0000 | ms/batch 115.69 | loss  1.02 | ppl     2.77 |\n",
      "| epoch  24 |   200/  562 batches | lr 20.0000 | ms/batch 114.56 | loss  1.03 | ppl     2.79 |\n",
      "| epoch  24 |   300/  562 batches | lr 20.0000 | ms/batch 114.55 | loss  1.07 | ppl     2.92 |\n",
      "| epoch  24 |   400/  562 batches | lr 20.0000 | ms/batch 114.22 | loss  1.03 | ppl     2.81 |\n",
      "| epoch  24 |   500/  562 batches | lr 20.0000 | ms/batch 114.37 | loss  1.00 | ppl     2.72 |\n",
      "--------------------------------------------------------------------------------------------------------------------------\n",
      "| end of epoch  24 | time: 90.36s | valid loss  0.64 | valid ppl     1.90 | training loss  0.46 | training ppl     1.59 |\n",
      "--------------------------------------------------------------------------------------------------------------------------\n",
      "| epoch  25 |   100/  562 batches | lr 20.0000 | ms/batch 115.73 | loss  1.00 | ppl     2.72 |\n",
      "| epoch  25 |   200/  562 batches | lr 20.0000 | ms/batch 114.40 | loss  1.01 | ppl     2.74 |\n",
      "| epoch  25 |   300/  562 batches | lr 20.0000 | ms/batch 114.48 | loss  1.05 | ppl     2.87 |\n",
      "| epoch  25 |   400/  562 batches | lr 20.0000 | ms/batch 114.41 | loss  1.02 | ppl     2.78 |\n",
      "| epoch  25 |   500/  562 batches | lr 20.0000 | ms/batch 114.56 | loss  0.99 | ppl     2.68 |\n",
      "--------------------------------------------------------------------------------------------------------------------------\n",
      "| end of epoch  25 | time: 90.44s | valid loss  0.64 | valid ppl     1.89 | training loss  0.45 | training ppl     1.58 |\n",
      "--------------------------------------------------------------------------------------------------------------------------\n",
      "| epoch  26 |   100/  562 batches | lr 20.0000 | ms/batch 116.03 | loss  0.99 | ppl     2.69 |\n",
      "| epoch  26 |   200/  562 batches | lr 20.0000 | ms/batch 114.82 | loss  1.00 | ppl     2.71 |\n",
      "| epoch  26 |   300/  562 batches | lr 20.0000 | ms/batch 114.79 | loss  1.05 | ppl     2.85 |\n",
      "| epoch  26 |   400/  562 batches | lr 20.0000 | ms/batch 114.89 | loss  1.01 | ppl     2.74 |\n",
      "| epoch  26 |   500/  562 batches | lr 20.0000 | ms/batch 114.52 | loss  0.98 | ppl     2.67 |\n",
      "--------------------------------------------------------------------------------------------------------------------------\n",
      "| end of epoch  26 | time: 90.57s | valid loss  0.63 | valid ppl     1.88 | training loss  0.44 | training ppl     1.55 |\n",
      "--------------------------------------------------------------------------------------------------------------------------\n",
      "| epoch  27 |   100/  562 batches | lr 20.0000 | ms/batch 115.92 | loss  0.98 | ppl     2.65 |\n",
      "| epoch  27 |   200/  562 batches | lr 20.0000 | ms/batch 114.84 | loss  0.99 | ppl     2.70 |\n",
      "| epoch  27 |   300/  562 batches | lr 20.0000 | ms/batch 114.84 | loss  1.04 | ppl     2.82 |\n",
      "| epoch  27 |   400/  562 batches | lr 20.0000 | ms/batch 114.79 | loss  1.00 | ppl     2.71 |\n",
      "| epoch  27 |   500/  562 batches | lr 20.0000 | ms/batch 114.77 | loss  0.97 | ppl     2.64 |\n",
      "--------------------------------------------------------------------------------------------------------------------------\n",
      "| end of epoch  27 | time: 90.61s | valid loss  0.63 | valid ppl     1.87 | training loss  0.43 | training ppl     1.53 |\n",
      "--------------------------------------------------------------------------------------------------------------------------\n",
      "| epoch  28 |   100/  562 batches | lr 20.0000 | ms/batch 116.29 | loss  0.97 | ppl     2.63 |\n",
      "| epoch  28 |   200/  562 batches | lr 20.0000 | ms/batch 115.03 | loss  0.98 | ppl     2.67 |\n",
      "| epoch  28 |   300/  562 batches | lr 20.0000 | ms/batch 115.20 | loss  1.03 | ppl     2.81 |\n",
      "| epoch  28 |   400/  562 batches | lr 20.0000 | ms/batch 115.05 | loss  0.99 | ppl     2.68 |\n",
      "| epoch  28 |   500/  562 batches | lr 20.0000 | ms/batch 115.08 | loss  0.96 | ppl     2.62 |\n",
      "--------------------------------------------------------------------------------------------------------------------------\n",
      "| end of epoch  28 | time: 90.77s | valid loss  0.63 | valid ppl     1.87 | training loss  0.42 | training ppl     1.53 |\n",
      "--------------------------------------------------------------------------------------------------------------------------\n",
      "| epoch  29 |   100/  562 batches | lr 13.3333 | ms/batch 116.34 | loss  0.94 | ppl     2.56 |\n",
      "| epoch  29 |   200/  562 batches | lr 13.3333 | ms/batch 115.11 | loss  0.92 | ppl     2.51 |\n",
      "| epoch  29 |   300/  562 batches | lr 13.3333 | ms/batch 115.23 | loss  0.94 | ppl     2.55 |\n",
      "| epoch  29 |   400/  562 batches | lr 13.3333 | ms/batch 115.15 | loss  0.88 | ppl     2.42 |\n",
      "| epoch  29 |   500/  562 batches | lr 13.3333 | ms/batch 115.11 | loss  0.84 | ppl     2.32 |\n",
      "--------------------------------------------------------------------------------------------------------------------------\n",
      "| end of epoch  29 | time: 90.72s | valid loss  0.57 | valid ppl     1.77 | training loss  0.35 | training ppl     1.42 |\n",
      "--------------------------------------------------------------------------------------------------------------------------\n",
      "| epoch  30 |   100/  562 batches | lr 13.3333 | ms/batch 116.03 | loss  0.86 | ppl     2.36 |\n",
      "| epoch  30 |   200/  562 batches | lr 13.3333 | ms/batch 114.92 | loss  0.85 | ppl     2.35 |\n",
      "| epoch  30 |   300/  562 batches | lr 13.3333 | ms/batch 114.93 | loss  0.88 | ppl     2.42 |\n",
      "| epoch  30 |   400/  562 batches | lr 13.3333 | ms/batch 114.87 | loss  0.84 | ppl     2.32 |\n",
      "| epoch  30 |   500/  562 batches | lr 13.3333 | ms/batch 115.07 | loss  0.81 | ppl     2.25 |\n",
      "--------------------------------------------------------------------------------------------------------------------------\n",
      "| end of epoch  30 | time: 90.67s | valid loss  0.56 | valid ppl     1.75 | training loss  0.33 | training ppl     1.39 |\n",
      "--------------------------------------------------------------------------------------------------------------------------\n",
      "| epoch  31 |   100/  562 batches | lr 13.3333 | ms/batch 115.98 | loss  0.82 | ppl     2.28 |\n",
      "| epoch  31 |   200/  562 batches | lr 13.3333 | ms/batch 114.71 | loss  0.82 | ppl     2.28 |\n",
      "| epoch  31 |   300/  562 batches | lr 13.3333 | ms/batch 114.63 | loss  0.86 | ppl     2.37 |\n",
      "| epoch  31 |   400/  562 batches | lr 13.3333 | ms/batch 114.69 | loss  0.83 | ppl     2.28 |\n",
      "| epoch  31 |   500/  562 batches | lr 13.3333 | ms/batch 114.81 | loss  0.79 | ppl     2.21 |\n",
      "--------------------------------------------------------------------------------------------------------------------------\n",
      "| end of epoch  31 | time: 90.51s | valid loss  0.55 | valid ppl     1.73 | training loss  0.32 | training ppl     1.37 |\n",
      "--------------------------------------------------------------------------------------------------------------------------\n",
      "| epoch  32 |   100/  562 batches | lr 13.3333 | ms/batch 116.07 | loss  0.80 | ppl     2.23 |\n",
      "| epoch  32 |   200/  562 batches | lr 13.3333 | ms/batch 114.84 | loss  0.81 | ppl     2.26 |\n",
      "| epoch  32 |   300/  562 batches | lr 13.3333 | ms/batch 114.93 | loss  0.84 | ppl     2.31 |\n",
      "| epoch  32 |   400/  562 batches | lr 13.3333 | ms/batch 114.86 | loss  0.80 | ppl     2.23 |\n",
      "| epoch  32 |   500/  562 batches | lr 13.3333 | ms/batch 114.85 | loss  0.77 | ppl     2.16 |\n",
      "--------------------------------------------------------------------------------------------------------------------------\n",
      "| end of epoch  32 | time: 90.60s | valid loss  0.54 | valid ppl     1.72 | training loss  0.30 | training ppl     1.35 |\n",
      "--------------------------------------------------------------------------------------------------------------------------\n",
      "| epoch  33 |   100/  562 batches | lr 13.3333 | ms/batch 115.66 | loss  0.79 | ppl     2.21 |\n",
      "| epoch  33 |   200/  562 batches | lr 13.3333 | ms/batch 114.53 | loss  0.79 | ppl     2.20 |\n",
      "| epoch  33 |   300/  562 batches | lr 13.3333 | ms/batch 114.36 | loss  0.82 | ppl     2.28 |\n",
      "| epoch  33 |   400/  562 batches | lr 13.3333 | ms/batch 114.29 | loss  0.78 | ppl     2.19 |\n",
      "| epoch  33 |   500/  562 batches | lr 13.3333 | ms/batch 114.95 | loss  0.76 | ppl     2.13 |\n",
      "--------------------------------------------------------------------------------------------------------------------------\n",
      "| end of epoch  33 | time: 90.46s | valid loss  0.54 | valid ppl     1.71 | training loss  0.30 | training ppl     1.34 |\n",
      "--------------------------------------------------------------------------------------------------------------------------\n",
      "| epoch  34 |   100/  562 batches | lr 13.3333 | ms/batch 115.95 | loss  0.77 | ppl     2.16 |\n",
      "| epoch  34 |   200/  562 batches | lr 13.3333 | ms/batch 114.50 | loss  0.78 | ppl     2.19 |\n",
      "| epoch  34 |   300/  562 batches | lr 13.3333 | ms/batch 114.74 | loss  0.81 | ppl     2.25 |\n",
      "| epoch  34 |   400/  562 batches | lr 13.3333 | ms/batch 114.42 | loss  0.78 | ppl     2.19 |\n",
      "| epoch  34 |   500/  562 batches | lr 13.3333 | ms/batch 114.70 | loss  0.75 | ppl     2.12 |\n",
      "--------------------------------------------------------------------------------------------------------------------------\n",
      "| end of epoch  34 | time: 90.68s | valid loss  0.53 | valid ppl     1.71 | training loss  0.28 | training ppl     1.33 |\n",
      "--------------------------------------------------------------------------------------------------------------------------\n",
      "| epoch  35 |   100/  562 batches | lr 13.3333 | ms/batch 116.84 | loss  0.77 | ppl     2.16 |\n",
      "| epoch  35 |   200/  562 batches | lr 13.3333 | ms/batch 116.02 | loss  0.76 | ppl     2.15 |\n",
      "| epoch  35 |   300/  562 batches | lr 13.3333 | ms/batch 116.27 | loss  0.80 | ppl     2.22 |\n",
      "| epoch  35 |   400/  562 batches | lr 13.3333 | ms/batch 116.23 | loss  0.76 | ppl     2.14 |\n",
      "| epoch  35 |   500/  562 batches | lr 13.3333 | ms/batch 116.34 | loss  0.75 | ppl     2.11 |\n",
      "--------------------------------------------------------------------------------------------------------------------------\n",
      "| end of epoch  35 | time: 92.20s | valid loss  0.53 | valid ppl     1.69 | training loss  0.28 | training ppl     1.32 |\n",
      "--------------------------------------------------------------------------------------------------------------------------\n",
      "| epoch  36 |   100/  562 batches | lr 13.3333 | ms/batch 118.06 | loss  0.76 | ppl     2.13 |\n",
      "| epoch  36 |   200/  562 batches | lr 13.3333 | ms/batch 116.68 | loss  0.76 | ppl     2.13 |\n",
      "| epoch  36 |   300/  562 batches | lr 13.3333 | ms/batch 116.71 | loss  0.79 | ppl     2.21 |\n",
      "| epoch  36 |   400/  562 batches | lr 13.3333 | ms/batch 116.86 | loss  0.76 | ppl     2.14 |\n",
      "| epoch  36 |   500/  562 batches | lr 13.3333 | ms/batch 116.60 | loss  0.73 | ppl     2.08 |\n",
      "--------------------------------------------------------------------------------------------------------------------------\n",
      "| end of epoch  36 | time: 91.99s | valid loss  0.52 | valid ppl     1.69 | training loss  0.27 | training ppl     1.31 |\n",
      "--------------------------------------------------------------------------------------------------------------------------\n",
      "| epoch  37 |   100/  562 batches | lr 13.3333 | ms/batch 115.92 | loss  0.74 | ppl     2.10 |\n",
      "| epoch  37 |   200/  562 batches | lr 13.3333 | ms/batch 114.62 | loss  0.75 | ppl     2.12 |\n",
      "| epoch  37 |   300/  562 batches | lr 13.3333 | ms/batch 114.89 | loss  0.78 | ppl     2.17 |\n",
      "| epoch  37 |   400/  562 batches | lr 13.3333 | ms/batch 114.98 | loss  0.75 | ppl     2.11 |\n",
      "| epoch  37 |   500/  562 batches | lr 13.3333 | ms/batch 114.81 | loss  0.73 | ppl     2.07 |\n",
      "--------------------------------------------------------------------------------------------------------------------------\n",
      "| end of epoch  37 | time: 90.70s | valid loss  0.52 | valid ppl     1.69 | training loss  0.26 | training ppl     1.30 |\n",
      "--------------------------------------------------------------------------------------------------------------------------\n",
      "| epoch  38 |   100/  562 batches | lr 13.3333 | ms/batch 116.23 | loss  0.74 | ppl     2.09 |\n",
      "| epoch  38 |   200/  562 batches | lr 13.3333 | ms/batch 115.13 | loss  0.73 | ppl     2.08 |\n",
      "| epoch  38 |   300/  562 batches | lr 13.3333 | ms/batch 115.10 | loss  0.77 | ppl     2.16 |\n",
      "| epoch  38 |   400/  562 batches | lr 13.3333 | ms/batch 115.23 | loss  0.74 | ppl     2.10 |\n",
      "| epoch  38 |   500/  562 batches | lr 13.3333 | ms/batch 115.02 | loss  0.71 | ppl     2.04 |\n",
      "--------------------------------------------------------------------------------------------------------------------------\n",
      "| end of epoch  38 | time: 90.84s | valid loss  0.52 | valid ppl     1.68 | training loss  0.26 | training ppl     1.29 |\n",
      "--------------------------------------------------------------------------------------------------------------------------\n",
      "| epoch  39 |   100/  562 batches | lr 13.3333 | ms/batch 116.11 | loss  0.73 | ppl     2.07 |\n",
      "| epoch  39 |   200/  562 batches | lr 13.3333 | ms/batch 115.08 | loss  0.73 | ppl     2.08 |\n",
      "| epoch  39 |   300/  562 batches | lr 13.3333 | ms/batch 115.13 | loss  0.76 | ppl     2.13 |\n",
      "| epoch  39 |   400/  562 batches | lr 13.3333 | ms/batch 115.29 | loss  0.73 | ppl     2.07 |\n",
      "| epoch  39 |   500/  562 batches | lr 13.3333 | ms/batch 115.21 | loss  0.71 | ppl     2.04 |\n",
      "--------------------------------------------------------------------------------------------------------------------------\n",
      "| end of epoch  39 | time: 90.87s | valid loss  0.51 | valid ppl     1.67 | training loss  0.25 | training ppl     1.29 |\n",
      "--------------------------------------------------------------------------------------------------------------------------\n",
      "| epoch  40 |   100/  562 batches | lr 13.3333 | ms/batch 116.21 | loss  0.72 | ppl     2.06 |\n",
      "| epoch  40 |   200/  562 batches | lr 13.3333 | ms/batch 114.64 | loss  0.73 | ppl     2.07 |\n",
      "| epoch  40 |   300/  562 batches | lr 13.3333 | ms/batch 114.89 | loss  0.76 | ppl     2.13 |\n",
      "| epoch  40 |   400/  562 batches | lr 13.3333 | ms/batch 115.12 | loss  0.72 | ppl     2.06 |\n",
      "| epoch  40 |   500/  562 batches | lr 13.3333 | ms/batch 115.14 | loss  0.71 | ppl     2.03 |\n",
      "--------------------------------------------------------------------------------------------------------------------------\n",
      "| end of epoch  40 | time: 90.72s | valid loss  0.51 | valid ppl     1.66 | training loss  0.25 | training ppl     1.28 |\n",
      "--------------------------------------------------------------------------------------------------------------------------\n",
      "| epoch  41 |   100/  562 batches | lr 13.3333 | ms/batch 116.10 | loss  0.72 | ppl     2.05 |\n",
      "| epoch  41 |   200/  562 batches | lr 13.3333 | ms/batch 115.05 | loss  0.72 | ppl     2.06 |\n",
      "| epoch  41 |   300/  562 batches | lr 13.3333 | ms/batch 114.83 | loss  0.75 | ppl     2.12 |\n",
      "| epoch  41 |   400/  562 batches | lr 13.3333 | ms/batch 115.02 | loss  0.72 | ppl     2.06 |\n",
      "| epoch  41 |   500/  562 batches | lr 13.3333 | ms/batch 114.57 | loss  0.70 | ppl     2.02 |\n",
      "--------------------------------------------------------------------------------------------------------------------------\n",
      "| end of epoch  41 | time: 90.66s | valid loss  0.51 | valid ppl     1.67 | training loss  0.24 | training ppl     1.27 |\n",
      "--------------------------------------------------------------------------------------------------------------------------\n",
      "| epoch  42 |   100/  562 batches | lr 8.8889 | ms/batch 116.23 | loss  0.70 | ppl     2.00 |\n",
      "| epoch  42 |   200/  562 batches | lr 8.8889 | ms/batch 115.08 | loss  0.68 | ppl     1.97 |\n",
      "| epoch  42 |   300/  562 batches | lr 8.8889 | ms/batch 115.37 | loss  0.70 | ppl     2.01 |\n",
      "| epoch  42 |   400/  562 batches | lr 8.8889 | ms/batch 115.06 | loss  0.66 | ppl     1.93 |\n",
      "| epoch  42 |   500/  562 batches | lr 8.8889 | ms/batch 115.14 | loss  0.63 | ppl     1.87 |\n",
      "--------------------------------------------------------------------------------------------------------------------------\n",
      "| end of epoch  42 | time: 90.80s | valid loss  0.49 | valid ppl     1.64 | training loss  0.21 | training ppl     1.24 |\n",
      "--------------------------------------------------------------------------------------------------------------------------\n",
      "| epoch  43 |   100/  562 batches | lr 8.8889 | ms/batch 115.88 | loss  0.65 | ppl     1.91 |\n",
      "| epoch  43 |   200/  562 batches | lr 8.8889 | ms/batch 114.94 | loss  0.65 | ppl     1.91 |\n",
      "| epoch  43 |   300/  562 batches | lr 8.8889 | ms/batch 114.94 | loss  0.66 | ppl     1.94 |\n",
      "| epoch  43 |   400/  562 batches | lr 8.8889 | ms/batch 114.98 | loss  0.64 | ppl     1.90 |\n",
      "| epoch  43 |   500/  562 batches | lr 8.8889 | ms/batch 114.33 | loss  0.61 | ppl     1.85 |\n",
      "--------------------------------------------------------------------------------------------------------------------------\n",
      "| end of epoch  43 | time: 90.53s | valid loss  0.49 | valid ppl     1.63 | training loss  0.20 | training ppl     1.23 |\n",
      "--------------------------------------------------------------------------------------------------------------------------\n",
      "| epoch  44 |   100/  562 batches | lr 8.8889 | ms/batch 115.98 | loss  0.64 | ppl     1.89 |\n",
      "| epoch  44 |   200/  562 batches | lr 8.8889 | ms/batch 114.76 | loss  0.63 | ppl     1.88 |\n",
      "| epoch  44 |   300/  562 batches | lr 8.8889 | ms/batch 114.97 | loss  0.65 | ppl     1.92 |\n",
      "| epoch  44 |   400/  562 batches | lr 8.8889 | ms/batch 115.00 | loss  0.62 | ppl     1.86 |\n",
      "| epoch  44 |   500/  562 batches | lr 8.8889 | ms/batch 114.90 | loss  0.60 | ppl     1.82 |\n",
      "--------------------------------------------------------------------------------------------------------------------------\n",
      "| end of epoch  44 | time: 90.64s | valid loss  0.48 | valid ppl     1.62 | training loss  0.19 | training ppl     1.21 |\n",
      "--------------------------------------------------------------------------------------------------------------------------\n",
      "| epoch  45 |   100/  562 batches | lr 8.8889 | ms/batch 115.98 | loss  0.61 | ppl     1.84 |\n",
      "| epoch  45 |   200/  562 batches | lr 8.8889 | ms/batch 115.00 | loss  0.61 | ppl     1.84 |\n",
      "| epoch  45 |   300/  562 batches | lr 8.8889 | ms/batch 114.69 | loss  0.64 | ppl     1.89 |\n",
      "| epoch  45 |   400/  562 batches | lr 8.8889 | ms/batch 114.76 | loss  0.61 | ppl     1.84 |\n",
      "| epoch  45 |   500/  562 batches | lr 8.8889 | ms/batch 115.05 | loss  0.59 | ppl     1.80 |\n",
      "--------------------------------------------------------------------------------------------------------------------------\n",
      "| end of epoch  45 | time: 90.68s | valid loss  0.48 | valid ppl     1.62 | training loss  0.19 | training ppl     1.21 |\n",
      "--------------------------------------------------------------------------------------------------------------------------\n",
      "| epoch  46 |   100/  562 batches | lr 8.8889 | ms/batch 116.46 | loss  0.60 | ppl     1.83 |\n",
      "| epoch  46 |   200/  562 batches | lr 8.8889 | ms/batch 115.19 | loss  0.60 | ppl     1.83 |\n",
      "| epoch  46 |   300/  562 batches | lr 8.8889 | ms/batch 115.20 | loss  0.63 | ppl     1.87 |\n",
      "| epoch  46 |   400/  562 batches | lr 8.8889 | ms/batch 115.24 | loss  0.60 | ppl     1.82 |\n",
      "| epoch  46 |   500/  562 batches | lr 8.8889 | ms/batch 115.23 | loss  0.58 | ppl     1.78 |\n",
      "--------------------------------------------------------------------------------------------------------------------------\n",
      "| end of epoch  46 | time: 90.79s | valid loss  0.48 | valid ppl     1.61 | training loss  0.18 | training ppl     1.20 |\n",
      "--------------------------------------------------------------------------------------------------------------------------\n",
      "| epoch  47 |   100/  562 batches | lr 8.8889 | ms/batch 115.32 | loss  0.60 | ppl     1.83 |\n",
      "| epoch  47 |   200/  562 batches | lr 8.8889 | ms/batch 114.80 | loss  0.60 | ppl     1.83 |\n",
      "| epoch  47 |   300/  562 batches | lr 8.8889 | ms/batch 114.80 | loss  0.62 | ppl     1.86 |\n",
      "| epoch  47 |   400/  562 batches | lr 8.8889 | ms/batch 114.96 | loss  0.59 | ppl     1.80 |\n",
      "| epoch  47 |   500/  562 batches | lr 8.8889 | ms/batch 114.83 | loss  0.57 | ppl     1.77 |\n",
      "--------------------------------------------------------------------------------------------------------------------------\n",
      "| end of epoch  47 | time: 90.54s | valid loss  0.47 | valid ppl     1.61 | training loss  0.18 | training ppl     1.19 |\n",
      "--------------------------------------------------------------------------------------------------------------------------\n",
      "| epoch  48 |   100/  562 batches | lr 8.8889 | ms/batch 116.31 | loss  0.59 | ppl     1.80 |\n",
      "| epoch  48 |   200/  562 batches | lr 8.8889 | ms/batch 115.15 | loss  0.59 | ppl     1.80 |\n",
      "| epoch  48 |   300/  562 batches | lr 8.8889 | ms/batch 115.21 | loss  0.61 | ppl     1.83 |\n",
      "| epoch  48 |   400/  562 batches | lr 8.8889 | ms/batch 115.18 | loss  0.58 | ppl     1.79 |\n",
      "| epoch  48 |   500/  562 batches | lr 8.8889 | ms/batch 114.97 | loss  0.56 | ppl     1.75 |\n",
      "--------------------------------------------------------------------------------------------------------------------------\n",
      "| end of epoch  48 | time: 90.82s | valid loss  0.47 | valid ppl     1.60 | training loss  0.17 | training ppl     1.19 |\n",
      "--------------------------------------------------------------------------------------------------------------------------\n",
      "| epoch  49 |   100/  562 batches | lr 8.8889 | ms/batch 116.40 | loss  0.58 | ppl     1.78 |\n",
      "| epoch  49 |   200/  562 batches | lr 8.8889 | ms/batch 115.12 | loss  0.58 | ppl     1.79 |\n",
      "| epoch  49 |   300/  562 batches | lr 8.8889 | ms/batch 115.19 | loss  0.60 | ppl     1.82 |\n",
      "| epoch  49 |   400/  562 batches | lr 8.8889 | ms/batch 115.12 | loss  0.58 | ppl     1.78 |\n",
      "| epoch  49 |   500/  562 batches | lr 8.8889 | ms/batch 115.12 | loss  0.55 | ppl     1.74 |\n",
      "--------------------------------------------------------------------------------------------------------------------------\n",
      "| end of epoch  49 | time: 90.78s | valid loss  0.49 | valid ppl     1.63 | training loss  0.17 | training ppl     1.18 |\n",
      "--------------------------------------------------------------------------------------------------------------------------\n",
      "| epoch  50 |   100/  562 batches | lr 5.9259 | ms/batch 116.55 | loss  0.57 | ppl     1.76 |\n",
      "| epoch  50 |   200/  562 batches | lr 5.9259 | ms/batch 115.28 | loss  0.55 | ppl     1.74 |\n",
      "| epoch  50 |   300/  562 batches | lr 5.9259 | ms/batch 115.29 | loss  0.57 | ppl     1.77 |\n",
      "| epoch  50 |   400/  562 batches | lr 5.9259 | ms/batch 114.33 | loss  0.54 | ppl     1.71 |\n",
      "| epoch  50 |   500/  562 batches | lr 5.9259 | ms/batch 114.88 | loss  0.52 | ppl     1.67 |\n",
      "--------------------------------------------------------------------------------------------------------------------------\n",
      "| end of epoch  50 | time: 90.70s | valid loss  0.46 | valid ppl     1.59 | training loss  0.15 | training ppl     1.16 |\n",
      "--------------------------------------------------------------------------------------------------------------------------\n",
      "| epoch  51 |   100/  562 batches | lr 5.9259 | ms/batch 116.09 | loss  0.54 | ppl     1.71 |\n",
      "| epoch  51 |   200/  562 batches | lr 5.9259 | ms/batch 114.86 | loss  0.53 | ppl     1.71 |\n",
      "| epoch  51 |   300/  562 batches | lr 5.9259 | ms/batch 114.79 | loss  0.55 | ppl     1.73 |\n",
      "| epoch  51 |   400/  562 batches | lr 5.9259 | ms/batch 114.88 | loss  0.52 | ppl     1.69 |\n",
      "| epoch  51 |   500/  562 batches | lr 5.9259 | ms/batch 114.85 | loss  0.51 | ppl     1.67 |\n",
      "--------------------------------------------------------------------------------------------------------------------------\n",
      "| end of epoch  51 | time: 90.61s | valid loss  0.46 | valid ppl     1.59 | training loss  0.14 | training ppl     1.16 |\n",
      "--------------------------------------------------------------------------------------------------------------------------\n",
      "| epoch  52 |   100/  562 batches | lr 5.9259 | ms/batch 116.19 | loss  0.52 | ppl     1.68 |\n",
      "| epoch  52 |   200/  562 batches | lr 5.9259 | ms/batch 115.18 | loss  0.52 | ppl     1.69 |\n",
      "| epoch  52 |   300/  562 batches | lr 5.9259 | ms/batch 115.06 | loss  0.54 | ppl     1.71 |\n",
      "| epoch  52 |   400/  562 batches | lr 5.9259 | ms/batch 115.08 | loss  0.51 | ppl     1.66 |\n",
      "| epoch  52 |   500/  562 batches | lr 5.9259 | ms/batch 115.09 | loss  0.49 | ppl     1.64 |\n",
      "--------------------------------------------------------------------------------------------------------------------------\n",
      "| end of epoch  52 | time: 90.72s | valid loss  0.46 | valid ppl     1.59 | training loss  0.14 | training ppl     1.15 |\n",
      "--------------------------------------------------------------------------------------------------------------------------\n",
      "| epoch  53 |   100/  562 batches | lr 3.9506 | ms/batch 116.16 | loss  0.51 | ppl     1.66 |\n",
      "| epoch  53 |   200/  562 batches | lr 3.9506 | ms/batch 114.83 | loss  0.50 | ppl     1.65 |\n",
      "| epoch  53 |   300/  562 batches | lr 3.9506 | ms/batch 114.74 | loss  0.52 | ppl     1.68 |\n",
      "| epoch  53 |   400/  562 batches | lr 3.9506 | ms/batch 114.84 | loss  0.49 | ppl     1.63 |\n",
      "| epoch  53 |   500/  562 batches | lr 3.9506 | ms/batch 114.71 | loss  0.47 | ppl     1.60 |\n",
      "--------------------------------------------------------------------------------------------------------------------------\n",
      "| end of epoch  53 | time: 90.56s | valid loss  0.46 | valid ppl     1.58 | training loss  0.13 | training ppl     1.14 |\n",
      "--------------------------------------------------------------------------------------------------------------------------\n",
      "| epoch  54 |   100/  562 batches | lr 3.9506 | ms/batch 115.99 | loss  0.49 | ppl     1.62 |\n",
      "| epoch  54 |   200/  562 batches | lr 3.9506 | ms/batch 114.80 | loss  0.48 | ppl     1.62 |\n",
      "| epoch  54 |   300/  562 batches | lr 3.9506 | ms/batch 114.88 | loss  0.50 | ppl     1.66 |\n",
      "| epoch  54 |   400/  562 batches | lr 3.9506 | ms/batch 114.82 | loss  0.47 | ppl     1.61 |\n",
      "| epoch  54 |   500/  562 batches | lr 3.9506 | ms/batch 114.87 | loss  0.45 | ppl     1.57 |\n",
      "--------------------------------------------------------------------------------------------------------------------------\n",
      "| end of epoch  54 | time: 90.57s | valid loss  0.45 | valid ppl     1.58 | training loss  0.13 | training ppl     1.13 |\n",
      "--------------------------------------------------------------------------------------------------------------------------\n",
      "| epoch  55 |   100/  562 batches | lr 3.9506 | ms/batch 115.98 | loss  0.48 | ppl     1.61 |\n",
      "| epoch  55 |   200/  562 batches | lr 3.9506 | ms/batch 114.86 | loss  0.48 | ppl     1.61 |\n",
      "| epoch  55 |   300/  562 batches | lr 3.9506 | ms/batch 114.72 | loss  0.49 | ppl     1.64 |\n",
      "| epoch  55 |   400/  562 batches | lr 3.9506 | ms/batch 114.84 | loss  0.47 | ppl     1.59 |\n",
      "| epoch  55 |   500/  562 batches | lr 3.9506 | ms/batch 114.70 | loss  0.45 | ppl     1.57 |\n",
      "--------------------------------------------------------------------------------------------------------------------------\n",
      "| end of epoch  55 | time: 90.55s | valid loss  0.45 | valid ppl     1.57 | training loss  0.12 | training ppl     1.13 |\n",
      "--------------------------------------------------------------------------------------------------------------------------\n",
      "| epoch  56 |   100/  562 batches | lr 3.9506 | ms/batch 116.40 | loss  0.47 | ppl     1.60 |\n",
      "| epoch  56 |   200/  562 batches | lr 3.9506 | ms/batch 115.12 | loss  0.47 | ppl     1.59 |\n",
      "| epoch  56 |   300/  562 batches | lr 3.9506 | ms/batch 115.11 | loss  0.48 | ppl     1.62 |\n",
      "| epoch  56 |   400/  562 batches | lr 3.9506 | ms/batch 115.10 | loss  0.46 | ppl     1.58 |\n",
      "| epoch  56 |   500/  562 batches | lr 3.9506 | ms/batch 115.18 | loss  0.44 | ppl     1.56 |\n",
      "--------------------------------------------------------------------------------------------------------------------------\n",
      "| end of epoch  56 | time: 90.76s | valid loss  0.45 | valid ppl     1.57 | training loss  0.12 | training ppl     1.13 |\n",
      "--------------------------------------------------------------------------------------------------------------------------\n",
      "| epoch  57 |   100/  562 batches | lr 3.9506 | ms/batch 115.93 | loss  0.46 | ppl     1.59 |\n",
      "| epoch  57 |   200/  562 batches | lr 3.9506 | ms/batch 114.62 | loss  0.46 | ppl     1.58 |\n",
      "| epoch  57 |   300/  562 batches | lr 3.9506 | ms/batch 114.07 | loss  0.47 | ppl     1.61 |\n",
      "| epoch  57 |   400/  562 batches | lr 3.9506 | ms/batch 114.70 | loss  0.45 | ppl     1.58 |\n",
      "| epoch  57 |   500/  562 batches | lr 3.9506 | ms/batch 114.88 | loss  0.43 | ppl     1.54 |\n",
      "--------------------------------------------------------------------------------------------------------------------------\n",
      "| end of epoch  57 | time: 90.76s | valid loss  0.45 | valid ppl     1.57 | training loss  0.11 | training ppl     1.12 |\n",
      "--------------------------------------------------------------------------------------------------------------------------\n",
      "| epoch  58 |   100/  562 batches | lr 3.9506 | ms/batch 117.58 | loss  0.46 | ppl     1.58 |\n",
      "| epoch  58 |   200/  562 batches | lr 3.9506 | ms/batch 116.71 | loss  0.45 | ppl     1.57 |\n",
      "| epoch  58 |   300/  562 batches | lr 3.9506 | ms/batch 116.76 | loss  0.47 | ppl     1.60 |\n",
      "| epoch  58 |   400/  562 batches | lr 3.9506 | ms/batch 117.05 | loss  0.45 | ppl     1.57 |\n",
      "| epoch  58 |   500/  562 batches | lr 3.9506 | ms/batch 116.28 | loss  0.43 | ppl     1.54 |\n",
      "--------------------------------------------------------------------------------------------------------------------------\n",
      "| end of epoch  58 | time: 91.79s | valid loss  0.45 | valid ppl     1.57 | training loss  0.11 | training ppl     1.12 |\n",
      "--------------------------------------------------------------------------------------------------------------------------\n",
      "| epoch  59 |   100/  562 batches | lr 3.9506 | ms/batch 116.31 | loss  0.45 | ppl     1.58 |\n",
      "| epoch  59 |   200/  562 batches | lr 3.9506 | ms/batch 115.13 | loss  0.45 | ppl     1.56 |\n",
      "| epoch  59 |   300/  562 batches | lr 3.9506 | ms/batch 115.14 | loss  0.47 | ppl     1.59 |\n",
      "| epoch  59 |   400/  562 batches | lr 3.9506 | ms/batch 115.04 | loss  0.45 | ppl     1.56 |\n",
      "| epoch  59 |   500/  562 batches | lr 3.9506 | ms/batch 115.17 | loss  0.42 | ppl     1.52 |\n",
      "--------------------------------------------------------------------------------------------------------------------------\n",
      "| end of epoch  59 | time: 90.83s | valid loss  0.45 | valid ppl     1.56 | training loss  0.11 | training ppl     1.12 |\n",
      "--------------------------------------------------------------------------------------------------------------------------\n",
      "| epoch  60 |   100/  562 batches | lr 3.9506 | ms/batch 116.20 | loss  0.44 | ppl     1.55 |\n",
      "| epoch  60 |   200/  562 batches | lr 3.9506 | ms/batch 115.16 | loss  0.44 | ppl     1.55 |\n",
      "| epoch  60 |   300/  562 batches | lr 3.9506 | ms/batch 115.17 | loss  0.46 | ppl     1.58 |\n",
      "| epoch  60 |   400/  562 batches | lr 3.9506 | ms/batch 114.96 | loss  0.44 | ppl     1.55 |\n",
      "| epoch  60 |   500/  562 batches | lr 3.9506 | ms/batch 114.86 | loss  0.42 | ppl     1.52 |\n",
      "--------------------------------------------------------------------------------------------------------------------------\n",
      "| end of epoch  60 | time: 90.76s | valid loss  0.45 | valid ppl     1.56 | training loss  0.11 | training ppl     1.11 |\n",
      "--------------------------------------------------------------------------------------------------------------------------\n",
      "| epoch  61 |   100/  562 batches | lr 2.6337 | ms/batch 115.87 | loss  0.44 | ppl     1.55 |\n",
      "| epoch  61 |   200/  562 batches | lr 2.6337 | ms/batch 114.97 | loss  0.43 | ppl     1.54 |\n",
      "| epoch  61 |   300/  562 batches | lr 2.6337 | ms/batch 114.68 | loss  0.45 | ppl     1.57 |\n",
      "| epoch  61 |   400/  562 batches | lr 2.6337 | ms/batch 114.94 | loss  0.43 | ppl     1.53 |\n",
      "| epoch  61 |   500/  562 batches | lr 2.6337 | ms/batch 114.90 | loss  0.40 | ppl     1.50 |\n",
      "--------------------------------------------------------------------------------------------------------------------------\n",
      "| end of epoch  61 | time: 90.63s | valid loss  0.44 | valid ppl     1.56 | training loss  0.10 | training ppl     1.11 |\n",
      "--------------------------------------------------------------------------------------------------------------------------\n",
      "| epoch  62 |   100/  562 batches | lr 2.6337 | ms/batch 116.09 | loss  0.42 | ppl     1.53 |\n",
      "| epoch  62 |   200/  562 batches | lr 2.6337 | ms/batch 114.97 | loss  0.42 | ppl     1.53 |\n",
      "| epoch  62 |   300/  562 batches | lr 2.6337 | ms/batch 115.13 | loss  0.44 | ppl     1.55 |\n",
      "| epoch  62 |   400/  562 batches | lr 2.6337 | ms/batch 114.91 | loss  0.41 | ppl     1.51 |\n",
      "| epoch  62 |   500/  562 batches | lr 2.6337 | ms/batch 114.86 | loss  0.40 | ppl     1.50 |\n",
      "--------------------------------------------------------------------------------------------------------------------------\n",
      "| end of epoch  62 | time: 90.73s | valid loss  0.44 | valid ppl     1.56 | training loss  0.10 | training ppl     1.11 |\n",
      "--------------------------------------------------------------------------------------------------------------------------\n",
      "| epoch  63 |   100/  562 batches | lr 2.6337 | ms/batch 116.07 | loss  0.42 | ppl     1.52 |\n",
      "| epoch  63 |   200/  562 batches | lr 2.6337 | ms/batch 114.87 | loss  0.41 | ppl     1.51 |\n",
      "| epoch  63 |   300/  562 batches | lr 2.6337 | ms/batch 114.94 | loss  0.43 | ppl     1.54 |\n",
      "| epoch  63 |   400/  562 batches | lr 2.6337 | ms/batch 114.81 | loss  0.41 | ppl     1.51 |\n",
      "| epoch  63 |   500/  562 batches | lr 2.6337 | ms/batch 114.88 | loss  0.39 | ppl     1.48 |\n",
      "--------------------------------------------------------------------------------------------------------------------------\n",
      "| end of epoch  63 | time: 90.67s | valid loss  0.44 | valid ppl     1.56 | training loss  0.10 | training ppl     1.10 |\n",
      "--------------------------------------------------------------------------------------------------------------------------\n",
      "| epoch  64 |   100/  562 batches | lr 1.7558 | ms/batch 115.78 | loss  0.41 | ppl     1.51 |\n",
      "| epoch  64 |   200/  562 batches | lr 1.7558 | ms/batch 114.21 | loss  0.41 | ppl     1.51 |\n",
      "| epoch  64 |   300/  562 batches | lr 1.7558 | ms/batch 114.85 | loss  0.43 | ppl     1.53 |\n",
      "| epoch  64 |   400/  562 batches | lr 1.7558 | ms/batch 114.76 | loss  0.40 | ppl     1.49 |\n",
      "| epoch  64 |   500/  562 batches | lr 1.7558 | ms/batch 114.81 | loss  0.38 | ppl     1.47 |\n",
      "--------------------------------------------------------------------------------------------------------------------------\n",
      "| end of epoch  64 | time: 90.53s | valid loss  0.44 | valid ppl     1.56 | training loss  0.10 | training ppl     1.10 |\n",
      "--------------------------------------------------------------------------------------------------------------------------\n",
      "| epoch  65 |   100/  562 batches | lr 1.7558 | ms/batch 115.90 | loss  0.40 | ppl     1.50 |\n",
      "| epoch  65 |   200/  562 batches | lr 1.7558 | ms/batch 114.96 | loss  0.40 | ppl     1.50 |\n",
      "| epoch  65 |   300/  562 batches | lr 1.7558 | ms/batch 114.91 | loss  0.42 | ppl     1.52 |\n",
      "| epoch  65 |   400/  562 batches | lr 1.7558 | ms/batch 114.93 | loss  0.39 | ppl     1.48 |\n",
      "| epoch  65 |   500/  562 batches | lr 1.7558 | ms/batch 114.96 | loss  0.38 | ppl     1.46 |\n",
      "--------------------------------------------------------------------------------------------------------------------------\n",
      "| end of epoch  65 | time: 90.67s | valid loss  0.44 | valid ppl     1.55 | training loss  0.09 | training ppl     1.10 |\n",
      "--------------------------------------------------------------------------------------------------------------------------\n",
      "| epoch  66 |   100/  562 batches | lr 1.7558 | ms/batch 116.46 | loss  0.40 | ppl     1.49 |\n",
      "| epoch  66 |   200/  562 batches | lr 1.7558 | ms/batch 115.26 | loss  0.40 | ppl     1.49 |\n",
      "| epoch  66 |   300/  562 batches | lr 1.7558 | ms/batch 115.22 | loss  0.41 | ppl     1.51 |\n",
      "| epoch  66 |   400/  562 batches | lr 1.7558 | ms/batch 115.42 | loss  0.40 | ppl     1.48 |\n",
      "| epoch  66 |   500/  562 batches | lr 1.7558 | ms/batch 115.17 | loss  0.37 | ppl     1.45 |\n",
      "--------------------------------------------------------------------------------------------------------------------------\n",
      "| end of epoch  66 | time: 90.88s | valid loss  0.44 | valid ppl     1.56 | training loss  0.09 | training ppl     1.10 |\n",
      "--------------------------------------------------------------------------------------------------------------------------\n",
      "| epoch  67 |   100/  562 batches | lr 1.1706 | ms/batch 115.96 | loss  0.39 | ppl     1.48 |\n",
      "| epoch  67 |   200/  562 batches | lr 1.1706 | ms/batch 114.99 | loss  0.40 | ppl     1.49 |\n",
      "| epoch  67 |   300/  562 batches | lr 1.1706 | ms/batch 115.03 | loss  0.41 | ppl     1.50 |\n",
      "| epoch  67 |   400/  562 batches | lr 1.1706 | ms/batch 114.80 | loss  0.39 | ppl     1.47 |\n",
      "| epoch  67 |   500/  562 batches | lr 1.1706 | ms/batch 114.10 | loss  0.37 | ppl     1.44 |\n",
      "--------------------------------------------------------------------------------------------------------------------------\n",
      "| end of epoch  67 | time: 90.55s | valid loss  0.44 | valid ppl     1.56 | training loss  0.09 | training ppl     1.09 |\n",
      "--------------------------------------------------------------------------------------------------------------------------\n",
      "| epoch  68 |   100/  562 batches | lr 0.7804 | ms/batch 116.34 | loss  0.39 | ppl     1.48 |\n",
      "| epoch  68 |   200/  562 batches | lr 0.7804 | ms/batch 115.13 | loss  0.38 | ppl     1.46 |\n",
      "| epoch  68 |   300/  562 batches | lr 0.7804 | ms/batch 115.08 | loss  0.40 | ppl     1.50 |\n",
      "| epoch  68 |   400/  562 batches | lr 0.7804 | ms/batch 115.09 | loss  0.39 | ppl     1.47 |\n",
      "| epoch  68 |   500/  562 batches | lr 0.7804 | ms/batch 115.25 | loss  0.36 | ppl     1.43 |\n",
      "--------------------------------------------------------------------------------------------------------------------------\n",
      "| end of epoch  68 | time: 90.76s | valid loss  0.44 | valid ppl     1.56 | training loss  0.09 | training ppl     1.09 |\n",
      "--------------------------------------------------------------------------------------------------------------------------\n",
      "| epoch  69 |   100/  562 batches | lr 0.5202 | ms/batch 116.29 | loss  0.39 | ppl     1.48 |\n",
      "| epoch  69 |   200/  562 batches | lr 0.5202 | ms/batch 114.96 | loss  0.38 | ppl     1.47 |\n",
      "| epoch  69 |   300/  562 batches | lr 0.5202 | ms/batch 115.12 | loss  0.40 | ppl     1.49 |\n",
      "| epoch  69 |   400/  562 batches | lr 0.5202 | ms/batch 115.16 | loss  0.38 | ppl     1.46 |\n",
      "| epoch  69 |   500/  562 batches | lr 0.5202 | ms/batch 115.28 | loss  0.36 | ppl     1.43 |\n",
      "--------------------------------------------------------------------------------------------------------------------------\n",
      "| end of epoch  69 | time: 90.76s | valid loss  0.44 | valid ppl     1.56 | training loss  0.09 | training ppl     1.09 |\n",
      "--------------------------------------------------------------------------------------------------------------------------\n",
      "| epoch  70 |   100/  562 batches | lr 0.3468 | ms/batch 116.48 | loss  0.38 | ppl     1.47 |\n",
      "| epoch  70 |   200/  562 batches | lr 0.3468 | ms/batch 115.19 | loss  0.39 | ppl     1.47 |\n",
      "| epoch  70 |   300/  562 batches | lr 0.3468 | ms/batch 115.25 | loss  0.39 | ppl     1.48 |\n",
      "| epoch  70 |   400/  562 batches | lr 0.3468 | ms/batch 115.09 | loss  0.38 | ppl     1.46 |\n",
      "| epoch  70 |   500/  562 batches | lr 0.3468 | ms/batch 115.14 | loss  0.35 | ppl     1.42 |\n",
      "--------------------------------------------------------------------------------------------------------------------------\n",
      "| end of epoch  70 | time: 90.82s | valid loss  0.44 | valid ppl     1.55 | training loss  0.09 | training ppl     1.09 |\n",
      "--------------------------------------------------------------------------------------------------------------------------\n",
      "--------------------------------------------------------------------------------------------------------------------------\n",
      "Exiting from training early\n"
     ]
    }
   ],
   "source": [
    "# Start training the model\n",
    "\n",
    "best_val_loss = None\n",
    "training_loss = []\n",
    "validation_loss = []\n",
    "\n",
    "# At any point you can hit Ctrl + C to break out of training early.\n",
    "try:\n",
    "    for epoch in range(1, num_epochs+1):\n",
    "        epoch_start_time = time.time()\n",
    "        \n",
    "        # Start training for one epoch\n",
    "        train()\n",
    "        \n",
    "        # Get and store validation and training losses \n",
    "        val_loss = evaluate(val_data, eval_batch_size)\n",
    "        tr_loss = evaluate(train_data, batch_size)\n",
    "        \n",
    "        \n",
    "        training_loss.append(tr_loss)\n",
    "        validation_loss.append(val_loss)\n",
    "        \n",
    "        print('-' * 122)\n",
    "        print('| end of epoch {:3d} | time: {:5.2f}s | valid loss {:5.2f} | '\n",
    "                'valid ppl {:8.2f} | training loss {:5.2f} | training ppl {:8.2f} |'.format(epoch, (time.time() - epoch_start_time),\n",
    "                                           val_loss, math.exp(val_loss), tr_loss, math.exp(tr_loss)))\n",
    "        print('-' * 122)\n",
    "        \n",
    "        \n",
    "        # Save the model if the validation loss is the best we've seen so far.\n",
    "        if not best_val_loss or val_loss < best_val_loss:\n",
    "            torch.save(model.state_dict(), \"model.pt\")\n",
    "            best_val_loss = val_loss\n",
    "        else:\n",
    "            # Anneal the learning rate if no improvement has been seen in the validation dataset.\n",
    "            learning_rate = learning_rate /1.5\n",
    "except KeyboardInterrupt:\n",
    "    print('-' * 122)\n",
    "    print('Exiting from training early')"
   ]
  },
  {
   "cell_type": "markdown",
   "metadata": {
    "colab_type": "text",
    "id": "G_Bdgv1SiIg9"
   },
   "source": [
    "# Plotting the performance graph"
   ]
  },
  {
   "cell_type": "code",
   "execution_count": 82,
   "metadata": {
    "colab": {
     "base_uri": "https://localhost:8080/",
     "height": 633
    },
    "colab_type": "code",
    "id": "6RP8p_uxFmRp",
    "outputId": "01d7e4ea-8320-40f0-9494-8b09e4bbe060"
   },
   "outputs": [
    {
     "data": {
      "image/png": "[encoded data removed]",
      "text/plain": [
       "<matplotlib.figure.Figure at 0x7fc3e5fab588>"
      ]
     },
     "metadata": {
      "tags": []
     },
     "output_type": "display_data"
    }
   ],
   "source": [
    "# Let's plot the validation and training loss in different epochs\n",
    "\n",
    "fig, ax = plt.subplots()\n",
    "sns.set_style(\"ticks\")\n",
    "sns.set_context(\"poster\")\n",
    "plt.xlabel(\"Epochs\")\n",
    "plt.ylabel(\"Loss\")\n",
    "plt.title(\"Loss vs Epochs\", fontsize=30)\n",
    "\n",
    "\n",
    "# ax.text(0.5, 0.9, 'Epochs: {}'.format(num_epochs),\n",
    "#         verticalalignment='bottom', horizontalalignment='left',\n",
    "#         transform=ax.transAxes,\n",
    "#         color='Red', fontsize=20)\n",
    "\n",
    "ax.text(0.5, 0.9, 'Layers: {}'.format(num_layers),\n",
    "        verticalalignment='bottom', horizontalalignment='left',\n",
    "        transform=ax.transAxes,\n",
    "        color='Red', fontsize=20)\n",
    "\n",
    "\n",
    "ax.text(0.5, 0.85, 'Hidden size: {}'.format(hidden_size),\n",
    "        verticalalignment='bottom', horizontalalignment='left',\n",
    "        transform=ax.transAxes,\n",
    "        color='Red', fontsize=20)\n",
    "\n",
    "\n",
    "ax.text(0.5, 0.80, 'Batch Size: {}'.format(batch_size),\n",
    "        verticalalignment='bottom', horizontalalignment='left',\n",
    "        transform=ax.transAxes,\n",
    "        color='Red', fontsize=20)\n",
    "\n",
    "ax.text(0.5, 0.75, 'Seq length: {}'.format(seq_length),\n",
    "        verticalalignment='bottom', horizontalalignment='left',\n",
    "        transform=ax.transAxes,\n",
    "        color='Red', fontsize=20)\n",
    "\n",
    "# ax.text(0.5, 0.65, 'Learning rate: {:5.4f}'.format(learning_rate),\n",
    "#         verticalalignment='bottom', horizontalalignment='left',\n",
    "#         transform=ax.transAxes,\n",
    "#         color='Red', fontsize=20)\n",
    "\n",
    "ax.text(0.5, 0.70, 'Embedding size: {}'.format(embed_size),\n",
    "        verticalalignment='bottom', horizontalalignment='left',\n",
    "        transform=ax.transAxes,\n",
    "        color='Red', fontsize=20)\n",
    "\n",
    "ax.text(0.5, 0.65, 'Dropout: {}'.format(dropout_value),\n",
    "        verticalalignment='bottom', horizontalalignment='left',\n",
    "        transform=ax.transAxes,\n",
    "        color='Red', fontsize=20)\n",
    "\n",
    "\n",
    "plt.plot( training_loss, color='black', linewidth = 2, label='Training Loss')\n",
    "plt.plot( validation_loss, color='blue', linewidth = 2, label='Validation Loss')\n",
    "plt.legend(loc='best')\n",
    "fig.set_size_inches(12, 10)\n",
    "plt.savefig(\"loss_iter_graph.png\", dpi=600)\n",
    "plt.show()\n"
   ]
  },
  {
   "cell_type": "code",
   "execution_count": 0,
   "metadata": {
    "colab": {},
    "colab_type": "code",
    "id": "lmRlNQk0F7JA"
   },
   "outputs": [],
   "source": [
    "files.download('loss_iter_graph.png')\n",
    "\n",
    "# files.download('model.pt')"
   ]
  },
  {
   "cell_type": "markdown",
   "metadata": {
    "colab_type": "text",
    "id": "vUyLCS4-iQSJ"
   },
   "source": [
    "# Upload the trained model to Google Drive "
   ]
  },
  {
   "cell_type": "code",
   "execution_count": 0,
   "metadata": {
    "colab": {},
    "colab_type": "code",
    "id": "ftKW8qkdv1pu"
   },
   "outputs": [],
   "source": [
    "from pydrive.auth import GoogleAuth\n",
    "from pydrive.drive import GoogleDrive\n",
    "from google.colab import auth\n",
    "from oauth2client.client import GoogleCredentials"
   ]
  },
  {
   "cell_type": "code",
   "execution_count": 0,
   "metadata": {
    "colab": {},
    "colab_type": "code",
    "id": "KzICjU1ywBcr"
   },
   "outputs": [],
   "source": [
    "auth.authenticate_user()\n",
    "gauth = GoogleAuth()\n",
    "gauth.credentials = GoogleCredentials.get_application_default()\n",
    "drive = GoogleDrive(gauth)"
   ]
  },
  {
   "cell_type": "code",
   "execution_count": 88,
   "metadata": {
    "colab": {
     "base_uri": "https://localhost:8080/",
     "height": 34
    },
    "colab_type": "code",
    "id": "9Quz_8gmwPV-",
    "outputId": "8d210647-5fcb-42f3-fc11-1a7e04eae62b"
   },
   "outputs": [
    {
     "name": "stdout",
     "output_type": "stream",
     "text": [
      "Uploaded file with ID 1HRK6l6WPjba3tmhdDsv752pfOB2aQ9T2\n"
     ]
    }
   ],
   "source": [
    "uploaded = drive.CreateFile({'trainedmodel': 'model.pt'})\n",
    "uploaded.SetContentFile('model.pt')\n",
    "uploaded.Upload()\n",
    "print('Uploaded file with ID {}'.format(uploaded.get('id')))"
   ]
  },
  {
   "cell_type": "markdown",
   "metadata": {
    "colab_type": "text",
    "id": "95ArpL5ZBqAg"
   },
   "source": [
    "# Evaluation and Sampling\n"
   ]
  },
  {
   "cell_type": "code",
   "execution_count": 16,
   "metadata": {
    "colab": {
     "base_uri": "https://localhost:8080/",
     "height": 51
    },
    "colab_type": "code",
    "id": "GX5f-aFGAHU8",
    "outputId": "3768bc1a-63a0-4d40-e865-6e4c92c60070"
   },
   "outputs": [
    {
     "name": "stdout",
     "output_type": "stream",
     "text": [
      "\n",
      "Redirecting output to ‘wget-log.1’.\n"
     ]
    }
   ],
   "source": [
    "# files.download('model.pt')\n",
    "# You can download the model directly from Colab using the above command. But sometimes, Colab behaves weird and corrupt your file while downloading. So I chose to upload it to Google Drive \n",
    "# first, then download it to a local machine. \n",
    "\n",
    "# This trained model is downloaded hosted in my GitHub repo. I you're training your own, then you may need to host it up somewhere else and get it for testing. \n",
    "# You can directly upload the model to Colab, but trust me, uploading is boring in Colab. \n",
    "\n",
    "!wget https://github.com/sleebapaul/gospel_of_rnn/raw/master/best_model/model.pt"
   ]
  },
  {
   "cell_type": "code",
   "execution_count": 0,
   "metadata": {
    "colab": {},
    "colab_type": "code",
    "id": "-N3ykBGL3YRm"
   },
   "outputs": [],
   "source": [
    "# Define model and load the states\n",
    "# Remember, it won't work if you've changed the hyperparameters\n",
    "\n",
    "model = RNNModel(ntoken=vocab_size, ninp=embed_size, nhid=hidden_size, nlayers=num_layers, dropout=dropout_value).to(device)\n",
    "model.load_state_dict(torch.load(\"model.pt\"))\n",
    "\n",
    "criterion = nn.CrossEntropyLoss()"
   ]
  },
  {
   "cell_type": "code",
   "execution_count": 35,
   "metadata": {
    "colab": {
     "base_uri": "https://localhost:8080/",
     "height": 68
    },
    "colab_type": "code",
    "id": "0xGJ70--Ftqf",
    "outputId": "a5f491b7-38e5-4226-b62a-933a4b96ba53"
   },
   "outputs": [
    {
     "name": "stdout",
     "output_type": "stream",
     "text": [
      "=========================================================================================\n",
      "| End of training | test loss  0.11 | test ppl     1.11\n",
      "=========================================================================================\n"
     ]
    }
   ],
   "source": [
    "# Run on test data.\n",
    "test_data = batchify(tensor_generator(corpora[\"matthew_ylt.txt\"],word2idx), eval_batch_size)\n",
    "test_loss = evaluate(test_data, eval_batch_size)\n",
    "print('=' * 89)\n",
    "print('| End of training | test loss {:5.2f} | test ppl {:8.2f}'.format(\n",
    "    test_loss, math.exp(test_loss)))\n",
    "print('=' * 89)"
   ]
  },
  {
   "cell_type": "markdown",
   "metadata": {
    "colab_type": "text",
    "id": "3usK0UjsFwz8"
   },
   "source": [
    "### If you would like to generate a number of words and save it to a file, you may use the below code."
   ]
  },
  {
   "cell_type": "code",
   "execution_count": 48,
   "metadata": {
    "colab": {
     "base_uri": "https://localhost:8080/",
     "height": 442
    },
    "colab_type": "code",
    "id": "wCShU5Oyr8jQ",
    "outputId": "96117aa3-d6a5-4306-924f-754c71c5c576"
   },
   "outputs": [
    {
     "name": "stdout",
     "output_type": "stream",
     "text": [
      "|Sampled [1000/25000] words and save to sample.txt|\n",
      "|Sampled [2000/25000] words and save to sample.txt|\n",
      "|Sampled [3000/25000] words and save to sample.txt|\n",
      "|Sampled [4000/25000] words and save to sample.txt|\n",
      "|Sampled [5000/25000] words and save to sample.txt|\n",
      "|Sampled [6000/25000] words and save to sample.txt|\n",
      "|Sampled [7000/25000] words and save to sample.txt|\n",
      "|Sampled [8000/25000] words and save to sample.txt|\n",
      "|Sampled [9000/25000] words and save to sample.txt|\n",
      "|Sampled [10000/25000] words and save to sample.txt|\n",
      "|Sampled [11000/25000] words and save to sample.txt|\n",
      "|Sampled [12000/25000] words and save to sample.txt|\n",
      "|Sampled [13000/25000] words and save to sample.txt|\n",
      "|Sampled [14000/25000] words and save to sample.txt|\n",
      "|Sampled [15000/25000] words and save to sample.txt|\n",
      "|Sampled [16000/25000] words and save to sample.txt|\n",
      "|Sampled [17000/25000] words and save to sample.txt|\n",
      "|Sampled [18000/25000] words and save to sample.txt|\n",
      "|Sampled [19000/25000] words and save to sample.txt|\n",
      "|Sampled [20000/25000] words and save to sample.txt|\n",
      "|Sampled [21000/25000] words and save to sample.txt|\n",
      "|Sampled [22000/25000] words and save to sample.txt|\n",
      "|Sampled [23000/25000] words and save to sample.txt|\n",
      "|Sampled [24000/25000] words and save to sample.txt|\n",
      "|Sampled [25000/25000] words and save to sample.txt|\n"
     ]
    }
   ],
   "source": [
    "num_samples = 25000   # Number of words to be generated \n",
    "temperature = 0.8     # Adjust temperature from 0.0 to 1.0 for diversity\n",
    "\n",
    "chapter = 1\n",
    "verses = 1\n",
    "model.eval()         \n",
    "\n",
    "# No warmup \n",
    "hidden = model.init_hidden(1)\n",
    "\n",
    "# initial_input = torch.LongTensor([[word2idx[\"<SOC>\"]]])\n",
    "initial_input = torch.randint(vocab_size, (1, 1), dtype=torch.long).to(device)\n",
    "input = initial_input.to(device)\n",
    "\n",
    "with open('generated_sample.txt', 'w') as outf:\n",
    "    \n",
    "    outf.write(\"\\n\\n\")\n",
    "    with torch.no_grad():  # no tracking history\n",
    "        for i in range(num_samples):\n",
    "            \n",
    "            output, hidden = model(input, hidden)\n",
    "            word_weights = output.squeeze().div(temperature).exp().cpu()\n",
    "            word_idx = torch.multinomial(word_weights, 1)[0]\n",
    "\n",
    "            word = idx2word[word_idx.item()]\n",
    "            \n",
    "            # Maximum verses in limited to 60 by EDA\n",
    "            if verses >= 60 and word != \"<EOC>\":\n",
    "                word_idx = torch.tensor(word2idx[\"<SOC>\"])\n",
    "                word = idx2word[word_idx.item()]\n",
    "\n",
    "\n",
    "            if word == \"<EOC>\":\n",
    "                word = \"\\n\\n\"\n",
    "                \n",
    "            elif word == \"<SOC>\":\n",
    "                word = \"\\n\\n\" + str(chapter) + \"\\n\\n\"\n",
    "                chapter += 1\n",
    "                verses = 1\n",
    "\n",
    "            elif word == \"<SOV>\":\n",
    "                word = \"\\n\" + str(verses) + \" \"\n",
    "                verses += 1\n",
    "            elif word == \"<EOV>\":\n",
    "                word = \"\\n\"\n",
    "            else:\n",
    "                word =  word + ' '\n",
    "\n",
    "            outf.write(word)\n",
    "            if (i+1) % 1000 == 0:\n",
    "                print('|Sampled [{}/{}] words and save to {}|'.format(i+1, num_samples, 'sample.txt'))   \n",
    "            \n",
    "            input.fill_(word_idx)\n",
    "            \n",
    "            if chapter>28:\n",
    "                break"
   ]
  },
  {
   "cell_type": "code",
   "execution_count": 0,
   "metadata": {
    "colab": {},
    "colab_type": "code",
    "id": "-bj07nkHkWXA"
   },
   "outputs": [],
   "source": [
    "files.download('generated_sample.txt')"
   ]
  },
  {
   "cell_type": "markdown",
   "metadata": {
    "colab_type": "text",
    "id": "kHCMWKOckXX8"
   },
   "source": [
    "#### If you would like to generate with a warmup primer text, use the below function. "
   ]
  },
  {
   "cell_type": "code",
   "execution_count": 0,
   "metadata": {
    "colab": {},
    "colab_type": "code",
    "id": "OabrrLVeIYJj"
   },
   "outputs": [],
   "source": [
    "def generate_chapter(model, context, temperature=0.5):\n",
    "    \"\"\"\n",
    "    Generate a chapter with given context and model\n",
    "    \"\"\"\n",
    "    \n",
    "    model.eval()\n",
    "    \n",
    "    word = \"<SOC>\"    # Starting token\n",
    "    \n",
    "    initial_input = torch.LongTensor([[word2idx[word]]])\n",
    "    input = initial_input.to(device)\n",
    "    \n",
    "    generated_text = \"\\n1 \"\n",
    "    verses = 2\n",
    "    \n",
    "    with torch.no_grad():  # no tracking history\n",
    "        \n",
    "        while word != \"<EOC>\": \n",
    "            output, context = model(input, context)\n",
    "            word_weights = output.squeeze().div(temperature).exp().cpu()\n",
    "            word_idx = torch.multinomial(word_weights, 1)[0]\n",
    "\n",
    "            word = idx2word[word_idx.item()]\n",
    "            \n",
    "            if verses > 59 and word != \"<EOC>\":\n",
    "                break\n",
    "                \n",
    "            if word == \"<SOC>\":\n",
    "                word = \"\\n\\n\"\n",
    "                break\n",
    "\n",
    "            if word == \"<SOV>\":\n",
    "                word = \"\\n\" + str(verses) + \" \"\n",
    "                verses += 1\n",
    "            elif word == \"<EOV>\":\n",
    "                word = \"\"\n",
    "            else:\n",
    "                word =  word + ' '\n",
    "\n",
    "            generated_text += word\n",
    "            word = idx2word[word_idx.item()]\n",
    "            input.fill_(word_idx)\n",
    "    \n",
    "    generated_text = generated_text.strip()\n",
    "    generated_text = generated_text.rstrip(\"<EOC>\")\n",
    "    generated_text = generated_text.rstrip(\"59\")\n",
    "    \n",
    "    generated_text = generated_text.strip()\n",
    "    return generated_text"
   ]
  },
  {
   "cell_type": "code",
   "execution_count": 27,
   "metadata": {
    "colab": {
     "base_uri": "https://localhost:8080/",
     "height": 289
    },
    "colab_type": "code",
    "id": "TTT4doDrN1DI",
    "outputId": "175e60dc-f11b-4bbf-bf97-90ac6720af60"
   },
   "outputs": [
    {
     "name": "stdout",
     "output_type": "stream",
     "text": [
      "1th chapter is generated\n",
      "2th chapter is generated\n",
      "3th chapter is generated\n",
      "4th chapter is generated\n",
      "5th chapter is generated\n",
      "6th chapter is generated\n",
      "7th chapter is generated\n",
      "8th chapter is generated\n",
      "9th chapter is generated\n",
      "10th chapter is generated\n",
      "11th chapter is generated\n",
      "12th chapter is generated\n",
      "13th chapter is generated\n",
      "14th chapter is generated\n",
      "15th chapter is generated\n",
      "16th chapter is generated\n"
     ]
    }
   ],
   "source": [
    "# Generate the Gospel of LSTM with your context\n",
    "\n",
    "gospel_of_lstms = \"1\\n\\n\"\n",
    "context = re.split(\" <SOC>\", corpora[\"mark_asv.txt\"])\n",
    "for i, text in enumerate(context):\n",
    "    if not text.startswith(\"<SOC>\"):\n",
    "        text = \"<SOC> \" + text\n",
    "    text = text.strip()\n",
    "    text = batchify(tensor_generator(text, word2idx), 1)\n",
    "    warmup_state = get_warmup_state(text)\n",
    "#     warmup_state = model.init_hidden(1)\n",
    "    \n",
    "    output = generate_chapter(model, warmup_state, temperature= 0.5)\n",
    "    gospel_of_lstms += output + \"\\n\\n\" + str(i+2) + \"\\n\\n\"\n",
    "    \n",
    "    print(\"{}th chapter is generated\".format(i+1))\n",
    "\n",
    "gospel_of_lstms = gospel_of_lstms.strip()"
   ]
  },
  {
   "cell_type": "code",
   "execution_count": 0,
   "metadata": {
    "colab": {},
    "colab_type": "code",
    "id": "9105WZB9p7HD"
   },
   "outputs": [],
   "source": [
    "with open(\"gospel_of_lstms.txt\", \"w\") as text_file:\n",
    "    text_file.write(gospel_of_lstms)"
   ]
  },
  {
   "cell_type": "code",
   "execution_count": 0,
   "metadata": {
    "colab": {},
    "colab_type": "code",
    "id": "IVhANdJOuHdw"
   },
   "outputs": [],
   "source": [
    "files.download('gospel_of_lstms.txt')"
   ]
  }
 ],
 "metadata": {
  "accelerator": "GPU",
  "colab": {
   "collapsed_sections": [],
   "name": "pytorch_LSTM.ipynb",
   "provenance": [],
   "version": "0.3.2"
  },
  "kernelspec": {
   "display_name": "Python 3",
   "language": "python",
   "name": "python3"
  },
  "language_info": {
   "codemirror_mode": {
    "name": "ipython",
    "version": 3
   },
   "file_extension": ".py",
   "mimetype": "text/x-python",
   "name": "python",
   "nbconvert_exporter": "python",
   "pygments_lexer": "ipython3",
   "version": "3.7.0"
  }
 },
 "nbformat": 4,
 "nbformat_minor": 1
}
