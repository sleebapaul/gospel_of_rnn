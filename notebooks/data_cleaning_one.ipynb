{
 "cells": [
  {
   "cell_type": "markdown",
   "metadata": {},
   "source": [
    "Goal of Notebook\n",
    "-----\n",
    "\n",
    "This notebook helps to understand how to load the whole bible versions available at this [github repo](https://github.com/scrollmapper/bible_databases) and extract gospels from it. \n",
    "\n",
    "Steps \n",
    "-------\n",
    "    \n",
    "1. Understand the arrangement of data. \n",
    "\n",
    "The data arrangement is explained in detail at original repo README. Please check it out [here](https://github.com/scrollmapper/bible_databases#verse-id-system).  \n",
    "\n",
    "2. Load a complete bible data in json format.   \n",
    "\n",
    "Here we use American Standard Version (ASV) of Bible. Check the github repo for available versions. \n",
    "\n",
    "3. Extract gospels\n",
    "\n",
    "Here we extract Gospel of Matthew from the whole data. The extracted data is saved to a json file. "
   ]
  },
  {
   "cell_type": "code",
   "execution_count": 1,
   "metadata": {},
   "outputs": [],
   "source": [
    "import json \n",
    "import pandas as pd"
   ]
  },
  {
   "cell_type": "code",
   "execution_count": 2,
   "metadata": {},
   "outputs": [],
   "source": [
    "def load_json(file_name):\n",
    "    \"\"\"\n",
    "    Load the json file to a json object\n",
    "    \"\"\"\n",
    "    return json.load(open(file_name))\n",
    "\n",
    "def list_to_json(input_list, file_name):\n",
    "    \"\"\"\n",
    "    Dump an input list as a json file\n",
    "    \"\"\"\n",
    "    with open(file_name, 'w') as outfile:\n",
    "        json.dump(input_list, outfile)"
   ]
  },
  {
   "cell_type": "code",
   "execution_count": 3,
   "metadata": {},
   "outputs": [
    {
     "data": {
      "text/html": [
       "<div>\n",
       "<style scoped>\n",
       "    .dataframe tbody tr th:only-of-type {\n",
       "        vertical-align: middle;\n",
       "    }\n",
       "\n",
       "    .dataframe tbody tr th {\n",
       "        vertical-align: top;\n",
       "    }\n",
       "\n",
       "    .dataframe thead th {\n",
       "        text-align: right;\n",
       "    }\n",
       "</style>\n",
       "<table border=\"1\" class=\"dataframe\">\n",
       "  <thead>\n",
       "    <tr style=\"text-align: right;\">\n",
       "      <th></th>\n",
       "      <th>a</th>\n",
       "      <th>b</th>\n",
       "      <th>id</th>\n",
       "      <th>p</th>\n",
       "    </tr>\n",
       "  </thead>\n",
       "  <tbody>\n",
       "    <tr>\n",
       "      <th>0</th>\n",
       "      <td>Gen</td>\n",
       "      <td>1</td>\n",
       "      <td>1</td>\n",
       "      <td>1</td>\n",
       "    </tr>\n",
       "    <tr>\n",
       "      <th>1</th>\n",
       "      <td>Ge</td>\n",
       "      <td>1</td>\n",
       "      <td>2</td>\n",
       "      <td>0</td>\n",
       "    </tr>\n",
       "    <tr>\n",
       "      <th>2</th>\n",
       "      <td>Gn</td>\n",
       "      <td>1</td>\n",
       "      <td>3</td>\n",
       "      <td>0</td>\n",
       "    </tr>\n",
       "    <tr>\n",
       "      <th>3</th>\n",
       "      <td>Exo</td>\n",
       "      <td>2</td>\n",
       "      <td>4</td>\n",
       "      <td>1</td>\n",
       "    </tr>\n",
       "    <tr>\n",
       "      <th>4</th>\n",
       "      <td>Ex</td>\n",
       "      <td>2</td>\n",
       "      <td>5</td>\n",
       "      <td>0</td>\n",
       "    </tr>\n",
       "  </tbody>\n",
       "</table>\n",
       "</div>"
      ],
      "text/plain": [
       "     a  b  id  p\n",
       "0  Gen  1   1  1\n",
       "1   Ge  1   2  0\n",
       "2   Gn  1   3  0\n",
       "3  Exo  2   4  1\n",
       "4   Ex  2   5  0"
      ]
     },
     "execution_count": 3,
     "metadata": {},
     "output_type": "execute_result"
    }
   ],
   "source": [
    "# Read key_abbreviations_english.json to understand which are the ids of gospel\n",
    "\n",
    "bible_keys = pd.read_json(\"../bible_database/key_abbreviations_english.json\")\n",
    "bible_keys.head()"
   ]
  },
  {
   "cell_type": "markdown",
   "metadata": {},
   "source": [
    "The meaning of each column names are elaborated at [here](https://github.com/scrollmapper/bible_databases#key_abbreviations_english). For less confusion I'm taking only the columns required and rename them more intuitively"
   ]
  },
  {
   "cell_type": "code",
   "execution_count": 4,
   "metadata": {},
   "outputs": [
    {
     "data": {
      "text/html": [
       "<div>\n",
       "<style scoped>\n",
       "    .dataframe tbody tr th:only-of-type {\n",
       "        vertical-align: middle;\n",
       "    }\n",
       "\n",
       "    .dataframe tbody tr th {\n",
       "        vertical-align: top;\n",
       "    }\n",
       "\n",
       "    .dataframe thead th {\n",
       "        text-align: right;\n",
       "    }\n",
       "</style>\n",
       "<table border=\"1\" class=\"dataframe\">\n",
       "  <thead>\n",
       "    <tr style=\"text-align: right;\">\n",
       "      <th></th>\n",
       "      <th>Abbreviations</th>\n",
       "      <th>bookID</th>\n",
       "    </tr>\n",
       "  </thead>\n",
       "  <tbody>\n",
       "    <tr>\n",
       "      <th>0</th>\n",
       "      <td>Gen</td>\n",
       "      <td>1</td>\n",
       "    </tr>\n",
       "    <tr>\n",
       "      <th>1</th>\n",
       "      <td>Ge</td>\n",
       "      <td>1</td>\n",
       "    </tr>\n",
       "    <tr>\n",
       "      <th>2</th>\n",
       "      <td>Gn</td>\n",
       "      <td>1</td>\n",
       "    </tr>\n",
       "    <tr>\n",
       "      <th>3</th>\n",
       "      <td>Exo</td>\n",
       "      <td>2</td>\n",
       "    </tr>\n",
       "    <tr>\n",
       "      <th>4</th>\n",
       "      <td>Ex</td>\n",
       "      <td>2</td>\n",
       "    </tr>\n",
       "  </tbody>\n",
       "</table>\n",
       "</div>"
      ],
      "text/plain": [
       "  Abbreviations  bookID\n",
       "0           Gen       1\n",
       "1            Ge       1\n",
       "2            Gn       1\n",
       "3           Exo       2\n",
       "4            Ex       2"
      ]
     },
     "execution_count": 4,
     "metadata": {},
     "output_type": "execute_result"
    }
   ],
   "source": [
    "bible_keys.columns = [\"Abbreviations\", \"bookID\", \"id\", \"p\"]\n",
    "bible_keys = bible_keys.loc[:, [\"Abbreviations\", \"bookID\"]]\n",
    "bible_keys.head()"
   ]
  },
  {
   "cell_type": "code",
   "execution_count": 5,
   "metadata": {},
   "outputs": [
    {
     "data": {
      "text/html": [
       "<div>\n",
       "<style scoped>\n",
       "    .dataframe tbody tr th:only-of-type {\n",
       "        vertical-align: middle;\n",
       "    }\n",
       "\n",
       "    .dataframe tbody tr th {\n",
       "        vertical-align: top;\n",
       "    }\n",
       "\n",
       "    .dataframe thead th {\n",
       "        text-align: right;\n",
       "    }\n",
       "</style>\n",
       "<table border=\"1\" class=\"dataframe\">\n",
       "  <thead>\n",
       "    <tr style=\"text-align: right;\">\n",
       "      <th></th>\n",
       "      <th>Abbreviations</th>\n",
       "      <th>bookID</th>\n",
       "    </tr>\n",
       "  </thead>\n",
       "  <tbody>\n",
       "    <tr>\n",
       "      <th>170</th>\n",
       "      <td>Matt</td>\n",
       "      <td>40</td>\n",
       "    </tr>\n",
       "    <tr>\n",
       "      <th>171</th>\n",
       "      <td>Mt</td>\n",
       "      <td>40</td>\n",
       "    </tr>\n",
       "    <tr>\n",
       "      <th>172</th>\n",
       "      <td>Mrk</td>\n",
       "      <td>41</td>\n",
       "    </tr>\n",
       "    <tr>\n",
       "      <th>173</th>\n",
       "      <td>Mk</td>\n",
       "      <td>41</td>\n",
       "    </tr>\n",
       "    <tr>\n",
       "      <th>174</th>\n",
       "      <td>Mr</td>\n",
       "      <td>41</td>\n",
       "    </tr>\n",
       "    <tr>\n",
       "      <th>175</th>\n",
       "      <td>Luk</td>\n",
       "      <td>42</td>\n",
       "    </tr>\n",
       "    <tr>\n",
       "      <th>176</th>\n",
       "      <td>Lk</td>\n",
       "      <td>42</td>\n",
       "    </tr>\n",
       "    <tr>\n",
       "      <th>177</th>\n",
       "      <td>John</td>\n",
       "      <td>43</td>\n",
       "    </tr>\n",
       "    <tr>\n",
       "      <th>178</th>\n",
       "      <td>Jn</td>\n",
       "      <td>43</td>\n",
       "    </tr>\n",
       "    <tr>\n",
       "      <th>179</th>\n",
       "      <td>Jhn</td>\n",
       "      <td>43</td>\n",
       "    </tr>\n",
       "  </tbody>\n",
       "</table>\n",
       "</div>"
      ],
      "text/plain": [
       "    Abbreviations  bookID\n",
       "170          Matt      40\n",
       "171            Mt      40\n",
       "172           Mrk      41\n",
       "173            Mk      41\n",
       "174            Mr      41\n",
       "175           Luk      42\n",
       "176            Lk      42\n",
       "177          John      43\n",
       "178            Jn      43\n",
       "179           Jhn      43"
      ]
     },
     "execution_count": 5,
     "metadata": {},
     "output_type": "execute_result"
    }
   ],
   "source": [
    "# get the book_ids of gospels\n",
    "\n",
    "bible_keys[(bible_keys.bookID > 39) & (bible_keys.bookID < 44)]"
   ]
  },
  {
   "cell_type": "markdown",
   "metadata": {},
   "source": [
    "We need `book_IDs` 40, 41, 42 and 43. \n",
    "\n",
    "1. Matthew - 40\n",
    "2. Mark - 41\n",
    "3. Luke - 42\n",
    "4. John - 43"
   ]
  },
  {
   "cell_type": "code",
   "execution_count": 6,
   "metadata": {},
   "outputs": [],
   "source": [
    "asv_bible = load_json(\"../bible_database/t_asv.json\")"
   ]
  },
  {
   "cell_type": "code",
   "execution_count": 7,
   "metadata": {},
   "outputs": [],
   "source": [
    "list_of_verse = asv_bible[\"resultset\"][\"row\"]"
   ]
  },
  {
   "cell_type": "code",
   "execution_count": 8,
   "metadata": {},
   "outputs": [
    {
     "data": {
      "text/plain": [
       "{'field': [1001001,\n",
       "  1,\n",
       "  1,\n",
       "  1,\n",
       "  'In the beginning God created the heavens and the earth.']}"
      ]
     },
     "execution_count": 8,
     "metadata": {},
     "output_type": "execute_result"
    }
   ],
   "source": [
    "list_of_verse[0]"
   ]
  },
  {
   "cell_type": "code",
   "execution_count": 9,
   "metadata": {},
   "outputs": [
    {
     "data": {
      "text/plain": [
       "{'field': [1001002,\n",
       "  1,\n",
       "  1,\n",
       "  2,\n",
       "  'And the earth was waste and void; and darkness was upon the face of the deep: and the Spirit of God moved upon the face of the waters.']}"
      ]
     },
     "execution_count": 9,
     "metadata": {},
     "output_type": "execute_result"
    }
   ],
   "source": [
    "list_of_verse[1]"
   ]
  },
  {
   "cell_type": "code",
   "execution_count": 38,
   "metadata": {},
   "outputs": [],
   "source": [
    "def extract_verses(start_index, stop_index, list_of_verse):\n",
    "    \"\"\"\n",
    "    Extract the verses between start_index and stop_index (not included)\n",
    "    List of verse is a list of dictionaries with key as field and values as verse \n",
    "    Output will be a list of list with chapter number, verse number and verses \n",
    "    \"\"\"\n",
    "    res_list = []\n",
    "    for _, verse in enumerate(list_of_verse):\n",
    "        if verse[\"field\"][0] >= start_index and verse[\"field\"][0] < stop_index:\n",
    "            res_list.append(verse[\"field\"])\n",
    "    return res_list"
   ]
  },
  {
   "cell_type": "markdown",
   "metadata": {},
   "source": [
    "Gospel of Matthew starts from 40001001 is explained as below. \n",
    "\n",
    "1. Book ID is 40\n",
    "2. Chapter 1 - 001\n",
    "3. Verse 1 - 001\n",
    "\n",
    "Gospel of Mark start from 41001001 which is the ending of Gospel of Matthew"
   ]
  },
  {
   "cell_type": "code",
   "execution_count": 39,
   "metadata": {},
   "outputs": [],
   "source": [
    "asv_matthew = extract_verses(40001001, 41001001, list_of_verse)"
   ]
  },
  {
   "cell_type": "code",
   "execution_count": 40,
   "metadata": {},
   "outputs": [
    {
     "data": {
      "text/plain": [
       "[40001002,\n",
       " 40,\n",
       " 1,\n",
       " 2,\n",
       " 'Abraham begat Isaac; and Isaac begat Jacob; and Jacob begat Judah and his brethren;']"
      ]
     },
     "execution_count": 40,
     "metadata": {},
     "output_type": "execute_result"
    }
   ],
   "source": [
    "asv_matthew[1]"
   ]
  },
  {
   "cell_type": "code",
   "execution_count": 41,
   "metadata": {},
   "outputs": [
    {
     "data": {
      "text/plain": [
       "[40028020,\n",
       " 40,\n",
       " 28,\n",
       " 20,\n",
       " 'teaching them to observe all things whatsoever I commanded you: and lo, I am with you always, even unto the end of the world.']"
      ]
     },
     "execution_count": 41,
     "metadata": {},
     "output_type": "execute_result"
    }
   ],
   "source": [
    "asv_matthew[-1]"
   ]
  },
  {
   "cell_type": "markdown",
   "metadata": {},
   "source": [
    "There are 1071 verses available in Gospel of Matthew (ASV) according. Let's cross verify this with our extracted data."
   ]
  },
  {
   "cell_type": "code",
   "execution_count": 42,
   "metadata": {},
   "outputs": [],
   "source": [
    "assert len(asv_matthew) == 1071, \"The number of verses is wrong.\""
   ]
  },
  {
   "cell_type": "code",
   "execution_count": 17,
   "metadata": {},
   "outputs": [],
   "source": [
    "!mkdir ../raw_gospel_data\n",
    "!mkdir ../raw_gospel_data/asv"
   ]
  },
  {
   "cell_type": "code",
   "execution_count": 19,
   "metadata": {},
   "outputs": [],
   "source": [
    "list_to_json(asv_matthew, \"../raw_gospel_data/asv/matthew_asv.json\")"
   ]
  },
  {
   "cell_type": "markdown",
   "metadata": {},
   "source": [
    "You can checkout the scripts folder for this demo in action. "
   ]
  }
 ],
 "metadata": {
  "kernelspec": {
   "display_name": "Python 3",
   "language": "python",
   "name": "python3"
  },
  "language_info": {
   "codemirror_mode": {
    "name": "ipython",
    "version": 3
   },
   "file_extension": ".py",
   "mimetype": "text/x-python",
   "name": "python",
   "nbconvert_exporter": "python",
   "pygments_lexer": "ipython3",
   "version": "3.6.5"
  }
 },
 "nbformat": 4,
 "nbformat_minor": 2
}
