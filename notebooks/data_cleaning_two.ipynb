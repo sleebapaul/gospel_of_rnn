{
 "cells": [
  {
   "cell_type": "markdown",
   "metadata": {},
   "source": [
    "Goal of the notebook\n",
    "-----------\n",
    "\n",
    "In this notebook we will clean the raw gospel data extracted from bible database, convert them to trainable data. \n",
    "\n",
    "\n",
    "Steps\n",
    "------\n",
    "\n",
    "1. Load the raw gospel data.\n",
    "\n",
    "Here we use American Standard Version of Gospel Of Matthew\n",
    "\n",
    "2. Tokenize each sentence to words and special characters using an efficient word tokenizer. \n",
    "\n",
    "We use [Spacy](https://spacy.io/) for tokenizing sentence. Spacy model used is `en_core_web_md`. \n",
    "\n",
    "3. Add tokens to structure the trainable data. \n",
    "\n",
    "    - <SOV\\> : Start of a verse\n",
    "    - <EOV\\> : End of a verse\n",
    "    - <SOC\\> : Start of a chapter\n",
    "    - <EOC\\> : End of a chapter\n",
    "    \n",
    "4. Save training data to a file. \n",
    "\n",
    "Replace any unwanted character of spotted.\n",
    " "
   ]
  },
  {
   "cell_type": "code",
   "execution_count": 1,
   "metadata": {},
   "outputs": [],
   "source": [
    "import json\n",
    "import spacy\n",
    "nlp = spacy.load(\"en_core_web_md\")"
   ]
  },
  {
   "cell_type": "code",
   "execution_count": 3,
   "metadata": {},
   "outputs": [],
   "source": [
    "def load_json(file_name):\n",
    "    \"\"\"\n",
    "    Load the json file to a json object\n",
    "    \"\"\"\n",
    "    return json.load(open(file_name))"
   ]
  },
  {
   "cell_type": "code",
   "execution_count": 4,
   "metadata": {},
   "outputs": [],
   "source": [
    "# Load raw Matthew American Standard Version \n",
    "raw_mattew_asv = load_json('../raw_gospel_data/asv/matthew_asv.json')"
   ]
  },
  {
   "cell_type": "code",
   "execution_count": 5,
   "metadata": {},
   "outputs": [
    {
     "data": {
      "text/plain": [
       "[40001001,\n",
       " 40,\n",
       " 1,\n",
       " 1,\n",
       " 'The book of the generation of Jesus Christ, the son of David, the son of Abraham.']"
      ]
     },
     "execution_count": 5,
     "metadata": {},
     "output_type": "execute_result"
    }
   ],
   "source": [
    "raw_mattew_asv[0]"
   ]
  },
  {
   "cell_type": "code",
   "execution_count": 6,
   "metadata": {},
   "outputs": [],
   "source": [
    "def tokenize_sentence(input_sentence, spacy_object):\n",
    "    \"\"\"\n",
    "    Tokenize a give sentence and return tokens as a list\n",
    "    \"\"\"\n",
    "    return [token.text for token in spacy_object(input_sentence)]"
   ]
  },
  {
   "cell_type": "code",
   "execution_count": 7,
   "metadata": {},
   "outputs": [],
   "source": [
    "def generate_training_data(raw_data, spacy_object):\n",
    "    \"\"\"\n",
    "    Tokenize, add structure tokens <SOV>, <EOV>, <SOC>, <EOC> \n",
    "    Returns a single string with tokens seperated by space\n",
    "    \n",
    "    verse_data[4] = Verse ID\n",
    "    verse_data[2] = Book ID\n",
    "    verse_data[2] = Chapter NUmber\n",
    "    verse_data[3] = Verse Number\n",
    "    verse_data[4] = Verse string\n",
    "    \n",
    "    \"\"\"\n",
    "\n",
    "    training_data = \"\"\n",
    "    chapter_number = 1\n",
    "    chapter_start = 1\n",
    "\n",
    "    for i, verse_data in enumerate(raw_data):\n",
    "        tokens = tokenize_sentence(verse_data[4], spacy_object)\n",
    "        temp = [\"<SOV>\"] + tokens + [\"<EOV>\"]\n",
    "        if chapter_number == verse_data[2] and chapter_start == verse_data[3]:\n",
    "            temp = [\"<SOC>\"] + temp\n",
    "        elif i+1 < len(raw_data) and raw_data[i+1][2] == chapter_number+1:\n",
    "            temp = temp + [\"<EOC>\"]\n",
    "            chapter_number+=1\n",
    "        elif i+1 == len(raw_data):\n",
    "            temp = temp + [\"<EOC>\"] \n",
    "        temp = \" \".join(temp)\n",
    "        training_data = training_data + temp + \" \"\n",
    "    return training_data"
   ]
  },
  {
   "cell_type": "code",
   "execution_count": 33,
   "metadata": {},
   "outputs": [],
   "source": [
    "training_data = generate_training_data(raw_mattew_asv, nlp)"
   ]
  },
  {
   "cell_type": "code",
   "execution_count": 39,
   "metadata": {},
   "outputs": [
    {
     "data": {
      "text/plain": [
       "\"<SOC> <SOV> The book of the generation of Jesus Christ , the son of David , the son of Abraham . <EOV> <SOV> Abraham begat Isaac ; and Isaac begat Jacob ; and Jacob begat Judah and his brethren ; <EOV> <SOV> and Judah begat Perez and Zerah of Tamar ; and Perez begat Hezron ; and Hezron begat Ram ; <EOV> <SOV> and Ram begat Amminadab ; and Amminadab begat Nahshon ; and Nahshon begat Salmon ; <EOV> <SOV> and Salmon begat Boaz of Rahab ; and Boaz begat Obed of Ruth ; and Obed begat Jesse ; <EOV> <SOV> and Jesse begat David the king . And David begat Solomon of her ` that had been the wife ' of Uriah ; <EOV> <SOV> and Solomon begat Rehoboam ; and Rehoboam begat Abijah ; and Abijah begat Asa ; <EOV> <SOV> and Asa begat Jehoshaphat ; and Jehoshaphat begat Joram ; and Joram begat Uzziah ; <EOV> <SOV> and Uzziah begat Jotham ; and Jotham begat Ahaz ; and Ahaz begat Hezekiah ; <EOV> <SOV> and Hezekiah begat Manasseh ; and Manasseh begat Amon ; and Amon begat Josiah ; <EOV> <SOV> and Josiah begat Jechoniah and his brethren , at the time of the carrying away to Babylon . <EOV> <SOV> And after the carrying away to Babylon , Jechoniah begat Shealtiel ; and Shealtiel begat Zerubbabel ; <EOV> <SOV> and Zerubbabel begat Abiud ; and Abiud begat Eliakim ; and Eliakim begat Azor ; <EOV> <SOV> and Azor begat Sadoc ; and Sadoc begat Achim ; and Achim begat Eliud ; <EOV> <SOV> and Eliud begat Eleazar ; and Eleazar begat Matthan ; and Matthan begat Jacob ; <EOV> <SOV> and Jacob begat Joseph the husband of Mary , of whom was born Jesus , who is called Christ . <EOV> <SOV> So all the generations from Abraham unto David are fourteen generations ; and from David unto the carrying away to Babylon fourteen generations ; and from the carrying away to Babylon unto the Christ fourteen generations . <EOV> <SOV> Now the birth of Jesus Christ was on this wise : When his mother Mary had been betrothed to Joseph , before they came together she was found with child of the Holy Spirit . <EOV> <SOV> And Joseph her husband , being a righteous man , and not willing to make her a public example , was minded to put her away privily . <EOV> <SOV> But when he thought on these things , behold , an angel of the Lord appeared unto him in a dream , saying , Joseph , thou son of David , fear not to take unto thee Mary thy wife : for that which is conceived in her is of the Holy Spirit . <EOV> <SOV> And she shall bring forth a son ; and thou shalt call his name JESUS ; for it is he that shall save his people from their sins . <EOV> <SOV> Now all this is come to pass , that it might be fulfilled which was spoken by the Lord through the prophet , saying , <EOV> <SOV> Behold , the virgin shall be with child , and shall bring forth a son , And they shall call his name Immanuel ; which is , being interpreted , God with us . <EOV> <SOV> And Joseph arose from his sleep , and did as the angel of the Lord commanded him , and took unto him his wife ; <EOV> <SOV> and knew her not till she had brought forth a son : and he called his name JESUS . <EOV> <EOC>\""
      ]
     },
     "execution_count": 39,
     "metadata": {},
     "output_type": "execute_result"
    }
   ],
   "source": [
    "# Let's sample first chapter \n",
    "\n",
    "training_data[:3049]"
   ]
  },
  {
   "cell_type": "markdown",
   "metadata": {},
   "source": [
    "Let's replace ``` with `'`"
   ]
  },
  {
   "cell_type": "code",
   "execution_count": 40,
   "metadata": {},
   "outputs": [],
   "source": [
    "training_data = training_data.replace(\"`\", \"'\")"
   ]
  },
  {
   "cell_type": "markdown",
   "metadata": {},
   "source": [
    "We need some tests to check if training data is correctly generated. \n",
    "\n",
    "American Standard Version Bible has 1071 verses and 28 chapters. That means we should have the same counts for the following tokens.\n",
    "\n",
    "1. <SOV\\> - 1071\n",
    "2. <EOV\\> - 1071\n",
    "3. <SOC\\> - 28\n",
    "4. <EOC\\> - 28"
   ]
  },
  {
   "cell_type": "code",
   "execution_count": 41,
   "metadata": {},
   "outputs": [],
   "source": [
    "# Tests \n",
    "\n",
    "assert training_data.count(\"<SOV>\") == 1071, \"Count of <SOV> is wrong: {}\".format(training_data.count(\"<SOV>\"))\n",
    "assert training_data.count(\"<EOV>\") == 1071, \"Count of <EOV> is wrong: {}\".format(training_data.count(\"<EOV>\"))\n",
    "assert training_data.count(\"<SOC>\") == 28, \"Count of <SOC> is wrong: {}\".format(training_data.count(\"<SOC>\"))\n",
    "assert training_data.count(\"<EOC>\") == 28, \"Count of <EOC> is wrong: {}\".format(training_data.count(\"<EOC>\"))"
   ]
  },
  {
   "cell_type": "code",
   "execution_count": 42,
   "metadata": {},
   "outputs": [],
   "source": [
    "# Write the training data to a file \n",
    "\n",
    "with open(\"../training_data/matthew_asv.txt\", \"w\") as text_file:\n",
    "    text_file.write(training_data)"
   ]
  },
  {
   "cell_type": "markdown",
   "metadata": {},
   "source": [
    "You can checkout the scripts folder for this demo in action. "
   ]
  }
 ],
 "metadata": {
  "kernelspec": {
   "display_name": "Python 3",
   "language": "python",
   "name": "python3"
  },
  "language_info": {
   "codemirror_mode": {
    "name": "ipython",
    "version": 3
   },
   "file_extension": ".py",
   "mimetype": "text/x-python",
   "name": "python",
   "nbconvert_exporter": "python",
   "pygments_lexer": "ipython3",
   "version": "3.6.5"
  }
 },
 "nbformat": 4,
 "nbformat_minor": 2
}
