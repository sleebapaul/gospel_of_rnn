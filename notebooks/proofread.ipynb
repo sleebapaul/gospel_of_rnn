{
 "cells": [
  {
   "cell_type": "code",
   "execution_count": 1,
   "metadata": {},
   "outputs": [],
   "source": [
    "import re\n",
    "import os"
   ]
  },
  {
   "cell_type": "code",
   "execution_count": 95,
   "metadata": {},
   "outputs": [
    {
     "name": "stdout",
     "output_type": "stream",
     "text": [
      "1\n",
      "\n",
      "1 Simon therefore , when he came to Jesus , and saw the place that was said to him , Buy the thin\n"
     ]
    }
   ],
   "source": [
    "with open(\"../generated_gospels/matthew_asv.txt\") as f:\n",
    "    txt_file = f.read()\n",
    "\n",
    "print(txt_file[:100])"
   ]
  },
  {
   "cell_type": "code",
   "execution_count": 96,
   "metadata": {},
   "outputs": [],
   "source": [
    "txt_file = re.sub(r\"\\s,\", r\",\", txt_file)\n",
    "txt_file = re.sub(r\"\\s;\", r\",\", txt_file)\n",
    "txt_file = re.sub(r\"\\s:\", r\",\", txt_file)\n",
    "txt_file = re.sub(r\"\\s\\?\", r\"?\", txt_file)\n",
    "txt_file = re.sub(r\"\\s!\", r\"!\", txt_file)\n",
    "txt_file = re.sub(r\"\\s-\", r\"-\", txt_file)\n",
    "txt_file = re.sub(r\"-\\s\", r\"\", txt_file)\n",
    "txt_file = re.sub(r\"\\s\\.\", r\".\", txt_file)"
   ]
  },
  {
   "cell_type": "code",
   "execution_count": 97,
   "metadata": {},
   "outputs": [
    {
     "data": {
      "text/plain": [
       "'1\\n\\n1 Simon therefore, when he came to Jesus, and saw the place that was said to him, Buy the things of which we have need for the feast, or, that he should give something to the poor. \\n2 He then having received the sop, went out straightway, and it was night. \\n3 When therefore he was gone out, Jesus saith, Now is the Son of man glorified, and God is glorified in him, \\n4 and God shall glorify him in himself, and straightway shall he glorify him. \\n5 Little children, yet a little while I am with you. Ye shall seek me, and as I said to the Jews, Whither I go, ye can not come, so now I say unto you. \\n6 A new commandment I give unto you, That ye love one another, as I have loved you, that ye also love one another. \\n7 By this shall all men know that ye are my disciples, if ye have love one to another. \\n8 Simon Peter said to him, Lord, whither goest thou? Jesus answered him, Whither I go, thou canst not follow me now, but thou shalt follow me afterward. \\n9 Peter said to him, Lord, why can not '"
      ]
     },
     "execution_count": 97,
     "metadata": {},
     "output_type": "execute_result"
    }
   ],
   "source": [
    "txt_file[:1000]"
   ]
  },
  {
   "cell_type": "code",
   "execution_count": 98,
   "metadata": {},
   "outputs": [],
   "source": [
    "with open(\"../GospelOfLSTMs.txt\", \"w\") as f:\n",
    "    f.write(txt_file)"
   ]
  },
  {
   "cell_type": "code",
   "execution_count": null,
   "metadata": {},
   "outputs": [],
   "source": []
  }
 ],
 "metadata": {
  "kernelspec": {
   "display_name": "Python 3",
   "language": "python",
   "name": "python3"
  },
  "language_info": {
   "codemirror_mode": {
    "name": "ipython",
    "version": 3
   },
   "file_extension": ".py",
   "mimetype": "text/x-python",
   "name": "python",
   "nbconvert_exporter": "python",
   "pygments_lexer": "ipython3",
   "version": "3.7.0"
  }
 },
 "nbformat": 4,
 "nbformat_minor": 2
}
