{
 "cells": [
  {
   "cell_type": "markdown",
   "metadata": {},
   "source": [
    "Goal of Notebook\n",
    "-----\n",
    "\n",
    "This notebook helps to understand stats of gospels.\n",
    "\n",
    "Steps \n",
    "-------\n",
    "    \n",
    "1. Create a JSON file which includes all the data of count of chapters and verses of each version of gospel. \n",
    "\n",
    "2. Conduct EDA in the data \n",
    "\n",
    "Find the sampling rules for generating a gospel. Have an idea about number of average chapters and verses. \n"
   ]
  },
  {
   "cell_type": "code",
   "execution_count": 1,
   "metadata": {},
   "outputs": [],
   "source": [
    "import os\n",
    "import json \n",
    "import re \n",
    "import matplotlib.pyplot as plt\n",
    "import seaborn as sns"
   ]
  },
  {
   "cell_type": "code",
   "execution_count": 2,
   "metadata": {},
   "outputs": [],
   "source": [
    "# Get all json files from the folder \n",
    "\n",
    "json_files = []\n",
    "path_to_json = '../raw_gospel_data/'\n",
    "for folder in os.listdir(path_to_json):\n",
    "    for file in os.listdir(path_to_json + folder):\n",
    "        if file.endswith('.json'):\n",
    "            json_files.append(path_to_json + folder + \"/\" + file)\n",
    "            \n",
    "# fetch the stats from the data\n",
    "\n",
    "stats = []\n",
    "for file in json_files:\n",
    "    with open(file, \"r\") as f:\n",
    "        data = json.load(f)\n",
    "        chapter = 1\n",
    "        verse_count = 1\n",
    "        record = {}\n",
    "        for verse in data:\n",
    "            temp_chapter = verse[2]\n",
    "            if temp_chapter != chapter:\n",
    "                record [chapter] = verse_count\n",
    "                verse_count = 1\n",
    "                chapter = temp_chapter \n",
    "            else:\n",
    "                verse_count += 1\n",
    "        record[chapter] = verse_count\n",
    "        stats.append({file: record})\n",
    "        \n",
    "# write stats to a json file \n",
    "with open(\"bible_stats.json\", 'w') as outfile:\n",
    "        json.dump(stats, outfile)"
   ]
  },
  {
   "cell_type": "code",
   "execution_count": 11,
   "metadata": {},
   "outputs": [],
   "source": [
    "# analysis on number of words of each gospels \n",
    "\n",
    "def word_count(file_path):\n",
    "    with open(file_path, \"r\") as f:\n",
    "        data = f.read()\n",
    "        tokens = data.split()\n",
    "        tokens = list(filter(lambda a: a not in [\"<EOC>\", \"<SOC>\", \"<SOV>\", \"<EOV>\"], tokens))\n",
    "    return len(tokens)"
   ]
  },
  {
   "cell_type": "code",
   "execution_count": 44,
   "metadata": {},
   "outputs": [],
   "source": [
    "word_cout_list = []\n",
    "path_to_data = '../training_data/'\n",
    "for file in os.listdir(path_to_data):\n",
    "    if file.endswith(\".txt\"):\n",
    "        count = word_count(path_to_data + file)\n",
    "        word_cout_list.append(count)\n",
    "        gospel_list.append(file)"
   ]
  },
  {
   "cell_type": "code",
   "execution_count": 47,
   "metadata": {},
   "outputs": [
    {
     "data": {
      "text/plain": [
       "[19026,\n",
       " 30503,\n",
       " 18145,\n",
       " 17729,\n",
       " 30420,\n",
       " 32471,\n",
       " 17896,\n",
       " 30715,\n",
       " 27678,\n",
       " 24391,\n",
       " 28183,\n",
       " 29523,\n",
       " 27895,\n",
       " 22550,\n",
       " 27792,\n",
       " 22571,\n",
       " 29557,\n",
       " 22737,\n",
       " 25012,\n",
       " 22980,\n",
       " 32386,\n",
       " 17809,\n",
       " 30396,\n",
       " 18832]"
      ]
     },
     "execution_count": 47,
     "metadata": {},
     "output_type": "execute_result"
    }
   ],
   "source": [
    "word_cout_list"
   ]
  },
  {
   "cell_type": "code",
   "execution_count": 48,
   "metadata": {},
   "outputs": [
    {
     "data": {
      "image/png": "[encoded data removed]",
      "text/plain": [
       "<Figure size 432x288 with 1 Axes>"
      ]
     },
     "metadata": {},
     "output_type": "display_data"
    }
   ],
   "source": [
    "# Plotting histogram to understand the distribution of word counts in various gospels\n",
    "plt.title(\"Word count distribution\")\n",
    "plt.xlabel(\"Word count\")\n",
    "plt.ylabel(\"Frequency\")\n",
    "plt.hist(word_cout_list, bins=[15000, 20000, 25000, 30000, 35000], facecolor='g')\n",
    "plt.show()"
   ]
  },
  {
   "cell_type": "markdown",
   "metadata": {},
   "source": [
    "As we see it, most of the gospel versions include more than 25000 words. The maximum frequency is between 25000 to 30000. So we'll generate atleast 25000 words from our trained model for our Gospel of LSTM 😉 "
   ]
  },
  {
   "cell_type": "code",
   "execution_count": 49,
   "metadata": {},
   "outputs": [],
   "source": [
    "# Let's check out the distribution of count of verses in each chapter of each book\n",
    "\n",
    "verse_list = []\n",
    "for record in stats:\n",
    "    temp = list(record.values())[0]\n",
    "    verse_list.extend(list(temp.values()))"
   ]
  },
  {
   "cell_type": "code",
   "execution_count": 50,
   "metadata": {},
   "outputs": [
    {
     "data": {
      "image/png": "[encoded data removed]",
      "text/plain": [
       "<Figure size 432x288 with 1 Axes>"
      ]
     },
     "metadata": {},
     "output_type": "display_data"
    }
   ],
   "source": [
    "plt.title(\"Verse Count distribution\")\n",
    "plt.xlabel(\"Verse count\")\n",
    "plt.ylabel(\"Frequency\")\n",
    "plt.hist(verse_list, bins=[10,20,30,40,50,60,70,80,90], facecolor='g')\n",
    "plt.show()"
   ]
  },
  {
   "cell_type": "markdown",
   "metadata": {},
   "source": [
    "As we see in the plot, the maximum number of verse count is in the range of 20 to 60. So we'll keep these number as minimum and maximum boundaries for our generated gospel. "
   ]
  },
  {
   "cell_type": "code",
   "execution_count": 37,
   "metadata": {},
   "outputs": [],
   "source": [
    "# Let's check out the distribution of chapter count of each book\n",
    "\n",
    "chapter_list = []\n",
    "for record in stats:\n",
    "    temp = list(record.values())[0]\n",
    "    chapter_list.append(max(temp.keys()))"
   ]
  },
  {
   "cell_type": "code",
   "execution_count": 40,
   "metadata": {},
   "outputs": [
    {
     "data": {
      "image/png": "[encoded data removed]",
      "text/plain": [
       "<Figure size 432x288 with 1 Axes>"
      ]
     },
     "metadata": {},
     "output_type": "display_data"
    }
   ],
   "source": [
    "plt.title(\"Chapter Count distribution\")\n",
    "plt.xlabel(\"Chapter count\")\n",
    "plt.ylabel(\"Frequency\")\n",
    "plt.hist(chapter_list, bins=[0,10,20,30,40], facecolor='g')\n",
    "plt.show()"
   ]
  },
  {
   "cell_type": "markdown",
   "metadata": {},
   "source": [
    "We will expect our gospel to have some 20 to 30 chapters in it by considering this distribution. "
   ]
  }
 ],
 "metadata": {
  "kernelspec": {
   "display_name": "Python 3",
   "language": "python",
   "name": "python3"
  },
  "language_info": {
   "codemirror_mode": {
    "name": "ipython",
    "version": 3
   },
   "file_extension": ".py",
   "mimetype": "text/x-python",
   "name": "python",
   "nbconvert_exporter": "python",
   "pygments_lexer": "ipython3",
   "version": "3.6.5"
  }
 },
 "nbformat": 4,
 "nbformat_minor": 2
}
